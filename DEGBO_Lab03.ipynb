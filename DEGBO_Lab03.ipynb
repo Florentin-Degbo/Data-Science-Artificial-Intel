{
 "cells": [
  {
   "cell_type": "markdown",
   "id": "75396689-eb06-4bc4-8464-576b2743673d",
   "metadata": {},
   "source": [
    "# Lab 03 - NumPy Library - Florentin Degbo"
   ]
  },
  {
   "cell_type": "markdown",
   "id": "50f51a38-7b11-4049-9556-3e47a5095d75",
   "metadata": {},
   "source": [
    "- NumPy is an open-source Python Library that:\n",
    "1. It was created in 2005,\n",
    "2. It operates on numerical data types,\n",
    "3. The core of NumPy are arrays,\n",
    "4. NumPy arrays are very similar to Python lists (one-dimensional); however, NumPy arrays are multi-dimensional and very faster in math operations on data (50 times faster than lists),\n",
    "5. The name of NumPy arrays is \"ndarray\" (n-dimensional arra),\n",
    "6. The best reliable source for NumPy is: https://numpy.org/"
   ]
  },
  {
   "cell_type": "markdown",
   "id": "179cf2ed-78b3-406d-b302-0262f5f1ab3b",
   "metadata": {},
   "source": [
    "### Installing and Importing NumPy"
   ]
  },
  {
   "cell_type": "code",
   "execution_count": 4,
   "id": "c7c9b286-7b6a-4894-91e4-543faa3fb819",
   "metadata": {},
   "outputs": [
    {
     "name": "stdout",
     "output_type": "stream",
     "text": [
      "Requirement already satisfied: numpy in c:\\users\\flore\\anaconda3\\lib\\site-packages (1.26.4)\n"
     ]
    }
   ],
   "source": [
    "# let's install first\n",
    "!pip install numpy"
   ]
  },
  {
   "cell_type": "code",
   "execution_count": 5,
   "id": "23f5bf56-df0d-4b5c-8581-05a53dcecd79",
   "metadata": {},
   "outputs": [],
   "source": [
    "# let's import numpy\n",
    "import numpy as np  # np is an alias name for numpy "
   ]
  },
  {
   "cell_type": "code",
   "execution_count": 6,
   "id": "40b873d0-7d4f-437a-92ac-e0492bd252e2",
   "metadata": {},
   "outputs": [
    {
     "name": "stdout",
     "output_type": "stream",
     "text": [
      "1.26.4\n"
     ]
    }
   ],
   "source": [
    "# let's check the version of the numpy we have \n",
    "print(np.__version__)"
   ]
  },
  {
   "cell_type": "markdown",
   "id": "9e2695cf-4664-4ed8-8fb3-83152d92e0b1",
   "metadata": {},
   "source": [
    "### Creating NumPy Arrays (narray) from Scratch"
   ]
  },
  {
   "cell_type": "markdown",
   "id": "17389ca7-fc7f-4249-bf47-d33c6d4fde7f",
   "metadata": {},
   "source": [
    "##### 1-D Arrays (one dimensional)"
   ]
  },
  {
   "cell_type": "code",
   "execution_count": 9,
   "id": "91c99a3a-a392-47ad-aecc-4e3522119f0b",
   "metadata": {},
   "outputs": [
    {
     "data": {
      "text/plain": [
       "array([1, 2, 3, 4])"
      ]
     },
     "execution_count": 9,
     "metadata": {},
     "output_type": "execute_result"
    }
   ],
   "source": [
    "# 1. creating an array from a Pthon list \n",
    "a = np.array([1,2,3,4])\n",
    "a"
   ]
  },
  {
   "cell_type": "code",
   "execution_count": 10,
   "id": "bc4cbb75-1ae3-4934-a376-915b6298c645",
   "metadata": {},
   "outputs": [
    {
     "name": "stdout",
     "output_type": "stream",
     "text": [
      "[1 2 3 4]\n"
     ]
    }
   ],
   "source": [
    "print(a)"
   ]
  },
  {
   "cell_type": "code",
   "execution_count": 11,
   "id": "f77ac63f-a820-49ec-aeaf-0d35b03a7fdd",
   "metadata": {},
   "outputs": [
    {
     "data": {
      "text/plain": [
       "numpy.ndarray"
      ]
     },
     "execution_count": 11,
     "metadata": {},
     "output_type": "execute_result"
    }
   ],
   "source": [
    "type(a)"
   ]
  },
  {
   "cell_type": "code",
   "execution_count": 12,
   "id": "df027c1c-d85d-46ad-a2cd-91396251c9d3",
   "metadata": {},
   "outputs": [
    {
     "data": {
      "text/plain": [
       "array([1, 2, 3, 4])"
      ]
     },
     "execution_count": 12,
     "metadata": {},
     "output_type": "execute_result"
    }
   ],
   "source": [
    "# let's create an array using a Python tuple\n",
    "b = np.array((1,2,3,4))\n",
    "b"
   ]
  },
  {
   "cell_type": "code",
   "execution_count": 13,
   "id": "a27348d3-4eae-419d-8de4-d45e9090885d",
   "metadata": {},
   "outputs": [
    {
     "data": {
      "text/plain": [
       "numpy.ndarray"
      ]
     },
     "execution_count": 13,
     "metadata": {},
     "output_type": "execute_result"
    }
   ],
   "source": [
    "type(b)"
   ]
  },
  {
   "cell_type": "code",
   "execution_count": 14,
   "id": "399e7fe1-0978-4f04-bed5-58121afed330",
   "metadata": {},
   "outputs": [
    {
     "data": {
      "text/plain": [
       "array([0., 0., 0., 0., 0., 0., 0.])"
      ]
     },
     "execution_count": 14,
     "metadata": {},
     "output_type": "execute_result"
    }
   ],
   "source": [
    "# an array that contains only zeros\n",
    "c = np.zeros(7, dtype=float)\n",
    "c"
   ]
  },
  {
   "cell_type": "code",
   "execution_count": 15,
   "id": "682acafa-e1ef-4010-94ec-3535dfcfadb9",
   "metadata": {},
   "outputs": [
    {
     "data": {
      "text/plain": [
       "array([1, 1, 1, 1, 1, 1, 1])"
      ]
     },
     "execution_count": 15,
     "metadata": {},
     "output_type": "execute_result"
    }
   ],
   "source": [
    "d  = np.ones(7, dtype=int)\n",
    "d"
   ]
  },
  {
   "cell_type": "code",
   "execution_count": 16,
   "id": "a0df7bb8-5846-4a68-a108-43a92fb56161",
   "metadata": {},
   "outputs": [
    {
     "data": {
      "text/plain": [
       "array([['Degbo', 'Degbo', 'Degbo'],\n",
       "       ['Degbo', 'Degbo', 'Degbo'],\n",
       "       ['Degbo', 'Degbo', 'Degbo'],\n",
       "       ['Degbo', 'Degbo', 'Degbo'],\n",
       "       ['Degbo', 'Degbo', 'Degbo']], dtype='<U5')"
      ]
     },
     "execution_count": 16,
     "metadata": {},
     "output_type": "execute_result"
    }
   ],
   "source": [
    "e = np.full((5,3), 'Degbo')\n",
    "e"
   ]
  },
  {
   "cell_type": "code",
   "execution_count": 17,
   "id": "0590e45d-75a2-4a7f-a964-9be296ac6e00",
   "metadata": {},
   "outputs": [
    {
     "data": {
      "text/plain": [
       "2"
      ]
     },
     "execution_count": 17,
     "metadata": {},
     "output_type": "execute_result"
    }
   ],
   "source": [
    "e.ndim"
   ]
  },
  {
   "cell_type": "code",
   "execution_count": 18,
   "id": "7cc9e884-8072-496c-b8d3-29f00d07f6cb",
   "metadata": {},
   "outputs": [
    {
     "data": {
      "text/plain": [
       "array([ 0,  2,  4,  6,  8, 10])"
      ]
     },
     "execution_count": 18,
     "metadata": {},
     "output_type": "execute_result"
    }
   ],
   "source": [
    "f = np.arange(0, 12, 2)\n",
    "f"
   ]
  },
  {
   "cell_type": "code",
   "execution_count": 19,
   "id": "8df1bcfe-51c3-4359-aaad-123c2c669a93",
   "metadata": {},
   "outputs": [
    {
     "data": {
      "text/plain": [
       "array([0, 8, 0, 4, 0])"
      ]
     },
     "execution_count": 19,
     "metadata": {},
     "output_type": "execute_result"
    }
   ],
   "source": [
    "g = np.random.randint(9, size=5)\n",
    "g"
   ]
  },
  {
   "cell_type": "code",
   "execution_count": 20,
   "id": "0740b64a-891c-46f1-aa58-f3f955571a6b",
   "metadata": {},
   "outputs": [
    {
     "data": {
      "text/plain": [
       "1"
      ]
     },
     "execution_count": 20,
     "metadata": {},
     "output_type": "execute_result"
    }
   ],
   "source": [
    "g.ndim"
   ]
  },
  {
   "cell_type": "code",
   "execution_count": 21,
   "id": "e5bcc5ce-823d-41a9-8945-fb01f07d4dd6",
   "metadata": {},
   "outputs": [
    {
     "data": {
      "text/plain": [
       "4"
      ]
     },
     "execution_count": 21,
     "metadata": {},
     "output_type": "execute_result"
    }
   ],
   "source": [
    "g[-2]"
   ]
  },
  {
   "cell_type": "code",
   "execution_count": 22,
   "id": "084ec402-7531-4df3-b30b-4a2f3be57d69",
   "metadata": {},
   "outputs": [
    {
     "data": {
      "text/plain": [
       "4"
      ]
     },
     "execution_count": 22,
     "metadata": {},
     "output_type": "execute_result"
    }
   ],
   "source": [
    "g[3]"
   ]
  },
  {
   "cell_type": "code",
   "execution_count": 23,
   "id": "a3a4e983-2383-45c0-8892-2603dd014d75",
   "metadata": {},
   "outputs": [
    {
     "data": {
      "text/plain": [
       "array([0, 8, 0])"
      ]
     },
     "execution_count": 23,
     "metadata": {},
     "output_type": "execute_result"
    }
   ],
   "source": [
    "g[:3]"
   ]
  },
  {
   "cell_type": "code",
   "execution_count": 24,
   "id": "672829d3-db16-4746-8394-424372a5fb78",
   "metadata": {},
   "outputs": [
    {
     "data": {
      "text/plain": [
       "array([0, 4, 0, 8, 0])"
      ]
     },
     "execution_count": 24,
     "metadata": {},
     "output_type": "execute_result"
    }
   ],
   "source": [
    "# reversing the order of the elements\n",
    "g[::-1]"
   ]
  },
  {
   "cell_type": "markdown",
   "id": "6757e0e2-d6e6-4214-b923-dc162489c852",
   "metadata": {},
   "source": [
    "##### 2-D Arrays "
   ]
  },
  {
   "cell_type": "code",
   "execution_count": 26,
   "id": "6f57f1ce-2f0c-4ce0-8e8c-649c42472862",
   "metadata": {},
   "outputs": [
    {
     "data": {
      "text/plain": [
       "array([[ 3, 11,  5,  2,  4,  3],\n",
       "       [10,  6,  7,  8,  8,  8],\n",
       "       [11,  1,  9,  6,  9,  0],\n",
       "       [11,  7, 10,  6,  9,  4]])"
      ]
     },
     "execution_count": 26,
     "metadata": {},
     "output_type": "execute_result"
    }
   ],
   "source": [
    "# let's create a 2-D array\n",
    "h = np.random.randint(12, size=(4,6))\n",
    "h"
   ]
  },
  {
   "cell_type": "code",
   "execution_count": 27,
   "id": "c5e7f574-2cc5-465f-ad79-b8f182f663e0",
   "metadata": {},
   "outputs": [
    {
     "data": {
      "text/plain": [
       "2"
      ]
     },
     "execution_count": 27,
     "metadata": {},
     "output_type": "execute_result"
    }
   ],
   "source": [
    "h.ndim"
   ]
  },
  {
   "cell_type": "code",
   "execution_count": 28,
   "id": "6cd76042-8f18-41bb-b26b-cee76c948e7e",
   "metadata": {},
   "outputs": [
    {
     "data": {
      "text/plain": [
       "(4, 6)"
      ]
     },
     "execution_count": 28,
     "metadata": {},
     "output_type": "execute_result"
    }
   ],
   "source": [
    "h.shape"
   ]
  },
  {
   "cell_type": "code",
   "execution_count": 29,
   "id": "3c020735-3d7d-4cbc-853c-52e307d46669",
   "metadata": {},
   "outputs": [
    {
     "data": {
      "text/plain": [
       "24"
      ]
     },
     "execution_count": 29,
     "metadata": {},
     "output_type": "execute_result"
    }
   ],
   "source": [
    "# the total number of values in h \n",
    "h.size"
   ]
  },
  {
   "cell_type": "code",
   "execution_count": 30,
   "id": "b4b25b79-8185-4c87-9c0d-f26ef7c747b0",
   "metadata": {},
   "outputs": [
    {
     "data": {
      "text/plain": [
       "8"
      ]
     },
     "execution_count": 30,
     "metadata": {},
     "output_type": "execute_result"
    }
   ],
   "source": [
    "# indexing\n",
    "h[1,4]"
   ]
  },
  {
   "cell_type": "code",
   "execution_count": 31,
   "id": "79761ca8-c764-4a49-b5fd-54504498a387",
   "metadata": {},
   "outputs": [
    {
     "data": {
      "text/plain": [
       "array([[ 3, 11],\n",
       "       [10,  6],\n",
       "       [11,  1]])"
      ]
     },
     "execution_count": 31,
     "metadata": {},
     "output_type": "execute_result"
    }
   ],
   "source": [
    "# slicing first part is rows , second part is colums\n",
    "h[0:3, 0:2]"
   ]
  },
  {
   "cell_type": "code",
   "execution_count": 32,
   "id": "d9af90ff-26d5-49b8-b771-e2f9aae47865",
   "metadata": {},
   "outputs": [
    {
     "data": {
      "text/plain": [
       "array([[9, 0],\n",
       "       [9, 4]])"
      ]
     },
     "execution_count": 32,
     "metadata": {},
     "output_type": "execute_result"
    }
   ],
   "source": [
    "h[2:8, 4:6]"
   ]
  },
  {
   "cell_type": "markdown",
   "id": "eb49c743-e9c9-4df9-8044-8b599f41920a",
   "metadata": {},
   "source": [
    "##### 3-D Arrays"
   ]
  },
  {
   "cell_type": "code",
   "execution_count": 34,
   "id": "f78b51ec-da83-41cf-8f7b-3cf661ec3bf7",
   "metadata": {},
   "outputs": [
    {
     "data": {
      "text/plain": [
       "array([[[ 8, 10,  7,  6,  5],\n",
       "        [13, 10,  5,  3, 12],\n",
       "        [14,  1,  3, 14, 11],\n",
       "        [ 8, 13,  3,  0, 10]],\n",
       "\n",
       "       [[ 6,  2,  0, 13, 13],\n",
       "        [ 7,  2,  3,  0, 13],\n",
       "        [ 8,  4, 14,  7,  6],\n",
       "        [ 3, 13,  8,  8,  2]],\n",
       "\n",
       "       [[ 5,  9, 13,  2,  0],\n",
       "        [ 9, 11,  3,  2,  4],\n",
       "        [12,  1, 10,  0, 12],\n",
       "        [11, 11, 13, 11, 12]],\n",
       "\n",
       "       [[10,  0, 14, 11,  4],\n",
       "        [ 1, 12, 13,  7,  9],\n",
       "        [ 6,  3,  1,  9, 11],\n",
       "        [ 1,  7,  7,  8,  6]]])"
      ]
     },
     "execution_count": 34,
     "metadata": {},
     "output_type": "execute_result"
    }
   ],
   "source": [
    "i = np.random.randint(15, size=(4, 4, 5))\n",
    "i"
   ]
  },
  {
   "cell_type": "code",
   "execution_count": 35,
   "id": "c0b523c9-7ce3-48ba-b0e9-83e5067cad79",
   "metadata": {},
   "outputs": [
    {
     "data": {
      "text/plain": [
       "3"
      ]
     },
     "execution_count": 35,
     "metadata": {},
     "output_type": "execute_result"
    }
   ],
   "source": [
    "i.ndim"
   ]
  },
  {
   "cell_type": "code",
   "execution_count": 36,
   "id": "6610a744-4de8-426f-9974-46844dc60735",
   "metadata": {},
   "outputs": [
    {
     "data": {
      "text/plain": [
       "(4, 4, 5)"
      ]
     },
     "execution_count": 36,
     "metadata": {},
     "output_type": "execute_result"
    }
   ],
   "source": [
    "i.shape"
   ]
  },
  {
   "cell_type": "code",
   "execution_count": 37,
   "id": "2267e886-cbd4-4c08-a6b9-dbbc96075d93",
   "metadata": {},
   "outputs": [
    {
     "data": {
      "text/plain": [
       "80"
      ]
     },
     "execution_count": 37,
     "metadata": {},
     "output_type": "execute_result"
    }
   ],
   "source": [
    "i.size"
   ]
  },
  {
   "cell_type": "code",
   "execution_count": 38,
   "id": "66999a16-05ac-47a7-b1b8-88bf7a87cad4",
   "metadata": {},
   "outputs": [
    {
     "data": {
      "text/plain": [
       "13"
      ]
     },
     "execution_count": 38,
     "metadata": {},
     "output_type": "execute_result"
    }
   ],
   "source": [
    "#indexing\n",
    "i[2, 3, 2]"
   ]
  },
  {
   "cell_type": "code",
   "execution_count": 39,
   "id": "3b49bcae-ab5b-4268-bf7b-c6223ab404ac",
   "metadata": {},
   "outputs": [
    {
     "data": {
      "text/plain": [
       "array([[ 9, 13,  2],\n",
       "       [11,  3,  2]])"
      ]
     },
     "execution_count": 39,
     "metadata": {},
     "output_type": "execute_result"
    }
   ],
   "source": [
    "i[2, 0:2, 1:4]"
   ]
  },
  {
   "cell_type": "markdown",
   "id": "4dcdfb55-e61b-406f-a227-19a08af12625",
   "metadata": {},
   "source": [
    "**Observation** Complete before submitting this lab. \n",
    "1. How many 3-D array in i? 1\n",
    "2. How many 2-D array in i? 4\n",
    "3. How many 1-D array in i? 16\n",
    "4. How many rows in i? 16\n",
    "5. How many columns in i? 5\n",
    "6. What is the shape of i? (4,4,5)\n",
    "7. What is the dimensionality of it? 3-D\n",
    "8. How many total values in i? 80 (445)"
   ]
  },
  {
   "cell_type": "code",
   "execution_count": 41,
   "id": "7fb60fd4-09a2-4e3e-afa2-2cd31ebf4466",
   "metadata": {},
   "outputs": [
    {
     "data": {
      "text/plain": [
       "array([[[[3, 6, 7, 3],\n",
       "         [6, 8, 4, 3],\n",
       "         [0, 1, 2, 7],\n",
       "         [0, 8, 8, 9]],\n",
       "\n",
       "        [[6, 0, 5, 4],\n",
       "         [8, 3, 7, 1],\n",
       "         [0, 0, 4, 1],\n",
       "         [9, 2, 5, 5]],\n",
       "\n",
       "        [[2, 7, 1, 1],\n",
       "         [8, 4, 1, 4],\n",
       "         [8, 5, 0, 2],\n",
       "         [7, 3, 1, 9]],\n",
       "\n",
       "        [[4, 2, 3, 5],\n",
       "         [7, 3, 9, 8],\n",
       "         [3, 4, 4, 1],\n",
       "         [4, 7, 0, 4]]],\n",
       "\n",
       "\n",
       "       [[[6, 7, 8, 6],\n",
       "         [2, 0, 2, 5],\n",
       "         [0, 2, 9, 7],\n",
       "         [8, 1, 1, 6]],\n",
       "\n",
       "        [[7, 5, 9, 0],\n",
       "         [7, 9, 6, 8],\n",
       "         [1, 8, 0, 5],\n",
       "         [2, 9, 7, 2]],\n",
       "\n",
       "        [[1, 2, 4, 2],\n",
       "         [8, 1, 3, 3],\n",
       "         [6, 9, 8, 8],\n",
       "         [1, 4, 8, 0]],\n",
       "\n",
       "        [[4, 5, 2, 6],\n",
       "         [3, 3, 1, 4],\n",
       "         [5, 0, 1, 4],\n",
       "         [0, 3, 8, 3]]],\n",
       "\n",
       "\n",
       "       [[[3, 1, 3, 0],\n",
       "         [1, 3, 8, 5],\n",
       "         [4, 3, 8, 9],\n",
       "         [0, 3, 3, 2]],\n",
       "\n",
       "        [[0, 0, 0, 9],\n",
       "         [2, 1, 7, 8],\n",
       "         [4, 7, 1, 2],\n",
       "         [4, 6, 9, 5]],\n",
       "\n",
       "        [[8, 3, 8, 8],\n",
       "         [6, 8, 4, 3],\n",
       "         [8, 0, 3, 6],\n",
       "         [9, 7, 0, 2]],\n",
       "\n",
       "        [[6, 7, 7, 7],\n",
       "         [2, 4, 3, 4],\n",
       "         [5, 0, 1, 5],\n",
       "         [7, 7, 0, 1]]],\n",
       "\n",
       "\n",
       "       [[[5, 5, 6, 1],\n",
       "         [4, 9, 8, 6],\n",
       "         [3, 3, 8, 7],\n",
       "         [5, 1, 2, 1]],\n",
       "\n",
       "        [[8, 5, 4, 0],\n",
       "         [0, 3, 7, 1],\n",
       "         [1, 2, 6, 3],\n",
       "         [1, 4, 0, 0]],\n",
       "\n",
       "        [[2, 3, 1, 2],\n",
       "         [5, 2, 3, 6],\n",
       "         [4, 0, 2, 1],\n",
       "         [2, 6, 9, 8]],\n",
       "\n",
       "        [[7, 0, 6, 4],\n",
       "         [3, 9, 8, 4],\n",
       "         [1, 0, 7, 9],\n",
       "         [9, 2, 1, 9]]]])"
      ]
     },
     "execution_count": 41,
     "metadata": {},
     "output_type": "execute_result"
    }
   ],
   "source": [
    "j = np.random.randint(10, size=(4, 4, 4, 4))\n",
    "j"
   ]
  },
  {
   "cell_type": "markdown",
   "id": "89e35558-f1d1-4e61-9b51-bb0ab0ccfb57",
   "metadata": {},
   "source": [
    "### Arrays Concatenation: "
   ]
  },
  {
   "cell_type": "code",
   "execution_count": 43,
   "id": "ff372d86-21a5-4603-8cfe-d6118c8fea3f",
   "metadata": {},
   "outputs": [
    {
     "data": {
      "text/plain": [
       "array([[1, 2, 3],\n",
       "       [4, 5, 6],\n",
       "       [7, 8, 9]])"
      ]
     },
     "execution_count": 43,
     "metadata": {},
     "output_type": "execute_result"
    }
   ],
   "source": [
    "k = np.array([[1,2,3], [4,5,6], [7,8,9]])\n",
    "k"
   ]
  },
  {
   "cell_type": "code",
   "execution_count": 44,
   "id": "7037ecef-a514-4b91-b24a-c8aacffb7571",
   "metadata": {},
   "outputs": [
    {
     "data": {
      "text/plain": [
       "array([[10, 11, 12]])"
      ]
     },
     "execution_count": 44,
     "metadata": {},
     "output_type": "execute_result"
    }
   ],
   "source": [
    "#this is a row\n",
    "l = np.array([[10,11,12]])\n",
    "l"
   ]
  },
  {
   "cell_type": "code",
   "execution_count": 45,
   "id": "60b73707-6f13-4176-b9b0-57fa47c38105",
   "metadata": {},
   "outputs": [
    {
     "data": {
      "text/plain": [
       "(1, 3)"
      ]
     },
     "execution_count": 45,
     "metadata": {},
     "output_type": "execute_result"
    }
   ],
   "source": [
    "l.shape"
   ]
  },
  {
   "cell_type": "code",
   "execution_count": 46,
   "id": "955a9707-faac-48ab-9a65-adcece43151e",
   "metadata": {},
   "outputs": [
    {
     "data": {
      "text/plain": [
       "array([[10],\n",
       "       [11],\n",
       "       [12]])"
      ]
     },
     "execution_count": 46,
     "metadata": {},
     "output_type": "execute_result"
    }
   ],
   "source": [
    "# let's tanspose l\n",
    "l.T"
   ]
  },
  {
   "cell_type": "code",
   "execution_count": 47,
   "id": "ba09419e-2b0d-4d26-9570-0efa5cb806ba",
   "metadata": {},
   "outputs": [
    {
     "data": {
      "text/plain": [
       "array([[ 1,  2,  3, 10],\n",
       "       [ 4,  5,  6, 11],\n",
       "       [ 7,  8,  9, 12]])"
      ]
     },
     "execution_count": 47,
     "metadata": {},
     "output_type": "execute_result"
    }
   ],
   "source": [
    "# adding l as a colum \n",
    "k_l = np.concatenate((k, l.T), axis=1)\n",
    "k_l"
   ]
  },
  {
   "cell_type": "code",
   "execution_count": 48,
   "id": "0506f2c5-6e54-4a22-9fb0-35b10d6294eb",
   "metadata": {},
   "outputs": [
    {
     "data": {
      "text/plain": [
       "array([[ 1,  2,  3],\n",
       "       [ 4,  5,  6],\n",
       "       [ 7,  8,  9],\n",
       "       [10, 11, 12]])"
      ]
     },
     "execution_count": 48,
     "metadata": {},
     "output_type": "execute_result"
    }
   ],
   "source": [
    "# adding l as a row\n",
    "k_l_1 = np.concatenate((k, l), axis=0)\n",
    "k_l_1"
   ]
  },
  {
   "cell_type": "markdown",
   "id": "23b62323-3e0e-41ef-b118-f972b741cfe5",
   "metadata": {},
   "source": [
    "### Arrays Splitting"
   ]
  },
  {
   "cell_type": "code",
   "execution_count": 50,
   "id": "b2938e1d-dfdc-41e1-862b-b2c5d1d61eab",
   "metadata": {},
   "outputs": [
    {
     "data": {
      "text/plain": [
       "array([10, 20, 30, 40, 50, 60])"
      ]
     },
     "execution_count": 50,
     "metadata": {},
     "output_type": "execute_result"
    }
   ],
   "source": [
    "m= np.array([10,20,30,40,50,60])\n",
    "m"
   ]
  },
  {
   "cell_type": "code",
   "execution_count": 51,
   "id": "db0d835e-0e17-46b3-93d1-e46310c1be3c",
   "metadata": {},
   "outputs": [
    {
     "data": {
      "text/plain": [
       "[array([10, 20]), array([30, 40]), array([50, 60])]"
      ]
     },
     "execution_count": 51,
     "metadata": {},
     "output_type": "execute_result"
    }
   ],
   "source": [
    "# let's split m into 3 arrays\n",
    "n = np.split(m, 3)\n",
    "n"
   ]
  },
  {
   "cell_type": "markdown",
   "id": "6202a6e4-26b7-4cba-97cb-7ad65f0eb2be",
   "metadata": {},
   "source": [
    "### Arrays Sorting"
   ]
  },
  {
   "cell_type": "code",
   "execution_count": 53,
   "id": "88484ed2-c1fd-4eb3-b9ee-afc8d68c3d8d",
   "metadata": {},
   "outputs": [],
   "source": [
    "o = np.array([9, 7, 3, 5, 1, 8])"
   ]
  },
  {
   "cell_type": "code",
   "execution_count": 54,
   "id": "e449f296-36a7-42d9-abfc-86bb0e0d5697",
   "metadata": {},
   "outputs": [
    {
     "data": {
      "text/plain": [
       "array([1, 3, 5, 7, 8, 9])"
      ]
     },
     "execution_count": 54,
     "metadata": {},
     "output_type": "execute_result"
    }
   ],
   "source": [
    "o1 = np.sort(o)\n",
    "o1"
   ]
  },
  {
   "cell_type": "code",
   "execution_count": 55,
   "id": "53df2cad-27de-4099-b034-755a87a178e2",
   "metadata": {},
   "outputs": [
    {
     "data": {
      "text/plain": [
       "array([[4, 7, 8],\n",
       "       [6, 2, 5],\n",
       "       [0, 8, 1]])"
      ]
     },
     "execution_count": 55,
     "metadata": {},
     "output_type": "execute_result"
    }
   ],
   "source": [
    "p = np.array([[4,7,8], [6,2,5], [0,8,1]])\n",
    "p"
   ]
  },
  {
   "cell_type": "code",
   "execution_count": 56,
   "id": "ba79a8b4-0d2b-4b6e-8a6c-5f7a6a406b0c",
   "metadata": {},
   "outputs": [
    {
     "data": {
      "text/plain": [
       "array([[4, 7, 8],\n",
       "       [2, 5, 6],\n",
       "       [0, 1, 8]])"
      ]
     },
     "execution_count": 56,
     "metadata": {},
     "output_type": "execute_result"
    }
   ],
   "source": [
    "# let's sort the rows: for sorting rows, we use axis=1\n",
    "p1 = np.sort(p, axis=1)\n",
    "p1"
   ]
  },
  {
   "cell_type": "code",
   "execution_count": 57,
   "id": "fbc38d3e-80e4-4ff9-bcf1-c559260cef78",
   "metadata": {},
   "outputs": [
    {
     "data": {
      "text/plain": [
       "array([[0, 2, 1],\n",
       "       [4, 7, 5],\n",
       "       [6, 8, 8]])"
      ]
     },
     "execution_count": 57,
     "metadata": {},
     "output_type": "execute_result"
    }
   ],
   "source": [
    "# let's sort the columns: for sorting columns, we use axis=0\n",
    "p2 = np.sort(p, axis=0)\n",
    "p2"
   ]
  },
  {
   "cell_type": "markdown",
   "id": "f3d1db10-0bf0-4b09-bd8c-9c863f957b91",
   "metadata": {},
   "source": [
    "### Conclusion\n",
    "\n",
    "- Add\n",
    "- 15 takeaways that you learned from completing this lab\n",
    "1. NumPy was created in 2005.\n",
    "2. NumPy operates on numerical data types. \n",
    "3. The core of NumPy are arrays. \n",
    "4. NumPy arrays are very similar to Python lists in one-dimensional.\n",
    "5. NumPy arrays are multi-dimensional.\n",
    "6. NumPy is 50 times faster in math operations on data than lists. \n",
    "7. The name of NumPy arrays is \"ndarray\".\n",
    "8. The number of [] would tell you what dimension we have.\n",
    "9. When indexing we use [].\n",
    "10. When we slicing it is more than one value we use both ([]).\n",
    "11. value.shape is to know the shape.\n",
    "12. Value.size is to get the size.\n",
    "13. Value.T is to tampose\n",
    "14. To create an array we use np.array\n",
    "15. For sorting columns, we use axis=0"
   ]
  },
  {
   "cell_type": "markdown",
   "id": "bff26540-42e0-4a5a-9d25-eb5ec98f8dba",
   "metadata": {},
   "source": [
    "##### End of Lab 03."
   ]
  },
  {
   "cell_type": "code",
   "execution_count": null,
   "id": "946cfec3-cd72-4da6-a109-78dd5a04ce74",
   "metadata": {},
   "outputs": [],
   "source": []
  }
 ],
 "metadata": {
  "kernelspec": {
   "display_name": "Python [conda env:base] *",
   "language": "python",
   "name": "conda-base-py"
  },
  "language_info": {
   "codemirror_mode": {
    "name": "ipython",
    "version": 3
   },
   "file_extension": ".py",
   "mimetype": "text/x-python",
   "name": "python",
   "nbconvert_exporter": "python",
   "pygments_lexer": "ipython3",
   "version": "3.12.7"
  }
 },
 "nbformat": 4,
 "nbformat_minor": 5
}
