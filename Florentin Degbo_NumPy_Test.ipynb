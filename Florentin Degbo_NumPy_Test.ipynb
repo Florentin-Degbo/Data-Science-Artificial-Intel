{
 "cells": [
  {
   "cell_type": "markdown",
   "id": "f938f04a",
   "metadata": {},
   "source": [
    "### NumPy Practice Test - FirstName LastName\n",
    "1. Change FirstName and LastName to your name (for both notebook name and title),\n",
    "2. Answer each question inside the cell under # Insert answer here\",\n",
    "3. After you answer all questions, Restart Kernel and Run All Cells,\n",
    "4. Download an HTML version of your completed Notebook,\n",
    "5. Submit completed test via Canvas Submission window.   "
   ]
  },
  {
   "cell_type": "code",
   "execution_count": 2,
   "id": "d572bb2a",
   "metadata": {
    "tags": []
   },
   "outputs": [],
   "source": [
    "import numpy as np"
   ]
  },
  {
   "cell_type": "markdown",
   "id": "8914d712-418f-4a03-84a3-25b7ec896b02",
   "metadata": {},
   "source": [
    "### Questions"
   ]
  },
  {
   "cell_type": "markdown",
   "id": "01e14af4",
   "metadata": {},
   "source": [
    "**1. Create a 3x3 matrix of zeros stored in a variable named zeros and print zeros.**"
   ]
  },
  {
   "cell_type": "code",
   "execution_count": 5,
   "id": "a320ceab",
   "metadata": {
    "tags": []
   },
   "outputs": [],
   "source": [
    "# Insert answer here\n"
   ]
  },
  {
   "cell_type": "markdown",
   "id": "8d7eb670",
   "metadata": {},
   "source": [
    "**2. Create a 1-D array of 10 (1s with integer data type) stored in a variable named ones and print ones.**"
   ]
  },
  {
   "cell_type": "code",
   "execution_count": 7,
   "id": "c51125b6-bd97-4b57-92fc-6f00e87997cc",
   "metadata": {
    "tags": []
   },
   "outputs": [],
   "source": [
    "# Insert answer here\n"
   ]
  },
  {
   "cell_type": "markdown",
   "id": "3e848839-6eb3-43a6-926f-3925d9ee8177",
   "metadata": {},
   "source": [
    "**3. Create a 2-D array of tenths with shape(3,3) stored in a variable named tenths and print tenths.**"
   ]
  },
  {
   "cell_type": "code",
   "execution_count": 9,
   "id": "abcedaee",
   "metadata": {
    "tags": []
   },
   "outputs": [],
   "source": [
    "# Insert answer here\n"
   ]
  },
  {
   "cell_type": "markdown",
   "id": "71c66dc4",
   "metadata": {},
   "source": [
    "**4. Create an array of the odd number integers from 1 to 15 in a variable named odds and print odds.**"
   ]
  },
  {
   "cell_type": "code",
   "execution_count": 11,
   "id": "af8ae9a2-576e-48f8-9cc0-6c73df1ff722",
   "metadata": {
    "tags": []
   },
   "outputs": [],
   "source": [
    "# Insert answer here\n"
   ]
  },
  {
   "cell_type": "markdown",
   "id": "1fcc15e2-e92d-4641-88af-f8a136a63b32",
   "metadata": {},
   "source": [
    "**5. Slice the last 4 elements of the odds array and display the output.**"
   ]
  },
  {
   "cell_type": "code",
   "execution_count": 13,
   "id": "8cb5fd26-f05e-46e9-a25f-66352c4ff2d0",
   "metadata": {},
   "outputs": [],
   "source": [
    "# Insert answer here\n"
   ]
  },
  {
   "cell_type": "markdown",
   "id": "c2d39806",
   "metadata": {},
   "source": [
    "**6. Create a 3-D array with values ranging from 1 to 36 in a variable named three_dim and print three_dim.**"
   ]
  },
  {
   "cell_type": "code",
   "execution_count": 15,
   "id": "82df90ad",
   "metadata": {
    "tags": []
   },
   "outputs": [],
   "source": [
    "# Insert answer here\n"
   ]
  },
  {
   "cell_type": "markdown",
   "id": "22e4aae5-7645-4eba-b8f9-ef1d78da921e",
   "metadata": {},
   "source": [
    "**7. Index the element (29) from three_dim array and display it.** "
   ]
  },
  {
   "cell_type": "code",
   "execution_count": 17,
   "id": "365f2224-50d5-41ec-a28e-af07d3a17b00",
   "metadata": {},
   "outputs": [],
   "source": [
    "# Insert answer here\n"
   ]
  },
  {
   "cell_type": "markdown",
   "id": "6f3f2dc6-daac-4b86-ac95-360d35b307b2",
   "metadata": {},
   "source": [
    "**8. Create a 2-D array with random values from 0 to 9 in a variable named two_dim and print two_dim.** "
   ]
  },
  {
   "cell_type": "code",
   "execution_count": 19,
   "id": "a42d3454-ffce-462b-8573-882f8abd7272",
   "metadata": {
    "tags": []
   },
   "outputs": [],
   "source": [
    "# Insert answer here\n"
   ]
  },
  {
   "cell_type": "markdown",
   "id": "7c7518dc-cc8b-4d88-8075-b563e4e1b477",
   "metadata": {},
   "source": [
    "**9. Sort all element in columns of two_dim array and display it.**"
   ]
  },
  {
   "cell_type": "code",
   "execution_count": 21,
   "id": "8050d8ee-0a5e-4db7-a235-6201ace4fce8",
   "metadata": {},
   "outputs": [],
   "source": [
    "# Insert answer here\n"
   ]
  },
  {
   "cell_type": "markdown",
   "id": "538cc6db-8082-4f04-a36e-905dc1e6e8b3",
   "metadata": {},
   "source": [
    "**10. Sort all element in rows of two_dim array and display it.**"
   ]
  },
  {
   "cell_type": "code",
   "execution_count": 23,
   "id": "71c7097d-7b7a-4a2b-b274-7f3dc2763968",
   "metadata": {},
   "outputs": [],
   "source": [
    "# Insert answer here\n"
   ]
  },
  {
   "cell_type": "markdown",
   "id": "e7ac5f6e",
   "metadata": {},
   "source": [
    "**11. Create an array of 20 random integers between 1 and 10 in a variable named twenty_random and print twenty_random.**"
   ]
  },
  {
   "cell_type": "code",
   "execution_count": 25,
   "id": "c17c1dfe",
   "metadata": {
    "tags": []
   },
   "outputs": [],
   "source": [
    "# Insert answer here\n"
   ]
  },
  {
   "cell_type": "markdown",
   "id": "9b5210dd-f8de-41bc-8e6a-32a3f3d1b387",
   "metadata": {},
   "source": [
    "**12. Split twenty_random array into 4 arrays and store the results in in a variable named twenty_split and print twenty_split.**"
   ]
  },
  {
   "cell_type": "code",
   "execution_count": 27,
   "id": "b077873f-43e2-4e2d-b012-66f190212aae",
   "metadata": {},
   "outputs": [],
   "source": [
    "# Insert answer here\n"
   ]
  },
  {
   "cell_type": "markdown",
   "id": "10845dfa-f3af-4af1-853c-2c53d630c2f1",
   "metadata": {
    "tags": []
   },
   "source": [
    "**13. Is the square() function a NumPy universal funcation? Show your answer as an output.**"
   ]
  },
  {
   "cell_type": "code",
   "execution_count": 29,
   "id": "71913b02-2c09-4b39-a7e1-eb8fd0e277f7",
   "metadata": {},
   "outputs": [],
   "source": [
    "# Insert answer here\n"
   ]
  },
  {
   "cell_type": "markdown",
   "id": "11d116f2-559b-430e-acf2-a57a7d681d22",
   "metadata": {},
   "source": [
    "**14. Divide x by y and display both the quotinets and the remainders and store the results in a variable named z and print z.**"
   ]
  },
  {
   "cell_type": "code",
   "execution_count": 31,
   "id": "5401d7b5-0d12-49bb-af5a-bbbff3fd8fcb",
   "metadata": {},
   "outputs": [],
   "source": [
    "# x and y arrays\n",
    "x = np.array([5,8,3,9])\n",
    "y = np.array([2,6,7,4])"
   ]
  },
  {
   "cell_type": "code",
   "execution_count": 32,
   "id": "525d6929-9eb7-4982-bc32-1e6a57340b17",
   "metadata": {},
   "outputs": [],
   "source": [
    "# Insert answer here\n"
   ]
  },
  {
   "cell_type": "markdown",
   "id": "fbdee534",
   "metadata": {},
   "source": [
    "**15. Find the GCD (Greates Common Divisor) of the s array and reduce the output to a single integer.**"
   ]
  },
  {
   "cell_type": "code",
   "execution_count": 34,
   "id": "31b0329d-3e73-4eff-af8a-8ad4350952a4",
   "metadata": {},
   "outputs": [],
   "source": [
    "s = np.array([20,16,10,32])"
   ]
  },
  {
   "cell_type": "code",
   "execution_count": 35,
   "id": "a1fc4f46",
   "metadata": {},
   "outputs": [],
   "source": [
    "# Insert answer here\n"
   ]
  },
  {
   "cell_type": "markdown",
   "id": "b94e3a01",
   "metadata": {},
   "source": [
    "### End of NumPy Test. "
   ]
  },
  {
   "cell_type": "code",
   "execution_count": null,
   "id": "8998116a-8d66-4f55-b670-ae5e06afc9cb",
   "metadata": {},
   "outputs": [],
   "source": []
  }
 ],
 "metadata": {
  "kernelspec": {
   "display_name": "Python [conda env:base] *",
   "language": "python",
   "name": "conda-base-py"
  },
  "language_info": {
   "codemirror_mode": {
    "name": "ipython",
    "version": 3
   },
   "file_extension": ".py",
   "mimetype": "text/x-python",
   "name": "python",
   "nbconvert_exporter": "python",
   "pygments_lexer": "ipython3",
   "version": "3.12.7"
  }
 },
 "nbformat": 4,
 "nbformat_minor": 5
}
