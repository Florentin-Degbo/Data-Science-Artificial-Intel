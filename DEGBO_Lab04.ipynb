{
 "cells": [
  {
   "cell_type": "markdown",
   "id": "b5dd05b6-6273-40a6-834a-a68e2476844a",
   "metadata": {},
   "source": [
    "# Lab 04 - Numpy Universal Functions - Florentin Degbo"
   ]
  },
  {
   "cell_type": "markdown",
   "id": "38cf918f-01c4-4cd7-8776-3d9d23f79b7a",
   "metadata": {},
   "source": [
    "1. Arrays Aggregations (statistical summaries)\n",
    "2. Arrays Broadcasting\n",
    "3. Universal Functions (ufuncs)"
   ]
  },
  {
   "cell_type": "markdown",
   "id": "2f19ad70-f8a2-4311-8ecf-20bb9b69bb63",
   "metadata": {},
   "source": [
    "### 1. Arrays Aggregations (statistical summaries)"
   ]
  },
  {
   "cell_type": "code",
   "execution_count": 4,
   "id": "5f686600-c37d-4cea-a62c-956fc9430574",
   "metadata": {},
   "outputs": [],
   "source": [
    "# let's import needed librairies\n",
    "import numpy as np \n",
    "import pandas as pd"
   ]
  },
  {
   "cell_type": "code",
   "execution_count": 5,
   "id": "7ab95dae-1461-4d8e-b7c3-cf6d29276084",
   "metadata": {},
   "outputs": [
    {
     "data": {
      "text/plain": [
       "array([3, 6, 7, 9])"
      ]
     },
     "execution_count": 5,
     "metadata": {},
     "output_type": "execute_result"
    }
   ],
   "source": [
    "a = np.array([3,6,7,9])\n",
    "a"
   ]
  },
  {
   "cell_type": "code",
   "execution_count": 6,
   "id": "13cca530-fcb8-4255-a2b6-6ec85a34bdb2",
   "metadata": {},
   "outputs": [
    {
     "data": {
      "text/plain": [
       "25"
      ]
     },
     "execution_count": 6,
     "metadata": {},
     "output_type": "execute_result"
    }
   ],
   "source": [
    "# Let's get the sum of a elements\n",
    "b = np.sum(a)\n",
    "b"
   ]
  },
  {
   "cell_type": "code",
   "execution_count": 7,
   "id": "85d75ac4-1db6-4c1a-b38c-24779a9d4bbd",
   "metadata": {},
   "outputs": [
    {
     "data": {
      "text/plain": [
       "numpy.ufunc"
      ]
     },
     "execution_count": 7,
     "metadata": {},
     "output_type": "execute_result"
    }
   ],
   "source": [
    "type(np.add)"
   ]
  },
  {
   "cell_type": "code",
   "execution_count": 8,
   "id": "2817453e-3d28-4bfb-9324-a02fdc29b4d8",
   "metadata": {},
   "outputs": [
    {
     "data": {
      "text/plain": [
       "6.25"
      ]
     },
     "execution_count": 8,
     "metadata": {},
     "output_type": "execute_result"
    }
   ],
   "source": [
    "# let's get the average of a elements\n",
    "c = np.mean(a)\n",
    "c"
   ]
  },
  {
   "cell_type": "code",
   "execution_count": 9,
   "id": "2c7135dc-e81c-480e-970d-a22feb65564a",
   "metadata": {},
   "outputs": [
    {
     "data": {
      "text/plain": [
       "6.25"
      ]
     },
     "execution_count": 9,
     "metadata": {},
     "output_type": "execute_result"
    }
   ],
   "source": [
    "c_2 = np.average(a)\n",
    "c_2"
   ]
  },
  {
   "cell_type": "code",
   "execution_count": 10,
   "id": "20c3647e-3775-44a2-b8db-7c9f992f1e3b",
   "metadata": {},
   "outputs": [
    {
     "data": {
      "text/plain": [
       "numpy._ArrayFunctionDispatcher"
      ]
     },
     "execution_count": 10,
     "metadata": {},
     "output_type": "execute_result"
    }
   ],
   "source": [
    "type(np.average)"
   ]
  },
  {
   "cell_type": "code",
   "execution_count": 11,
   "id": "e811c11c-6e75-4d7a-8f16-b86352425c06",
   "metadata": {},
   "outputs": [
    {
     "data": {
      "text/plain": [
       "9"
      ]
     },
     "execution_count": 11,
     "metadata": {},
     "output_type": "execute_result"
    }
   ],
   "source": [
    "d = np.max(a)\n",
    "d"
   ]
  },
  {
   "cell_type": "code",
   "execution_count": 12,
   "id": "64e9af85-83ac-4f20-95aa-bb90862e2bda",
   "metadata": {},
   "outputs": [
    {
     "data": {
      "text/plain": [
       "3"
      ]
     },
     "execution_count": 12,
     "metadata": {},
     "output_type": "execute_result"
    }
   ],
   "source": [
    "e = np.min(a)\n",
    "e"
   ]
  },
  {
   "cell_type": "code",
   "execution_count": 13,
   "id": "33216d3d-2445-41bf-8832-309861e24254",
   "metadata": {},
   "outputs": [],
   "source": [
    "f = np.array([2,4,8,9])"
   ]
  },
  {
   "cell_type": "code",
   "execution_count": 14,
   "id": "a464f04a-1dc0-4e49-bdff-923597eff56d",
   "metadata": {},
   "outputs": [
    {
     "data": {
      "text/plain": [
       "6.0"
      ]
     },
     "execution_count": 14,
     "metadata": {},
     "output_type": "execute_result"
    }
   ],
   "source": [
    "f_1 = np.median(f)\n",
    "f_1"
   ]
  },
  {
   "cell_type": "code",
   "execution_count": 15,
   "id": "beada470-da7b-4e89-b297-983dea719a40",
   "metadata": {},
   "outputs": [
    {
     "data": {
      "text/plain": [
       "2.165063509461097"
      ]
     },
     "execution_count": 15,
     "metadata": {},
     "output_type": "execute_result"
    }
   ],
   "source": [
    "g = np.std(a)\n",
    "g"
   ]
  },
  {
   "cell_type": "markdown",
   "id": "0103978d-f644-4f90-b04f-ac328336378a",
   "metadata": {},
   "source": [
    "### 2. Arrays Broadcasting\n",
    "1. Broadcasting perfoms math operation more effectively and faster on **arrays with different shapes**,\n",
    "2. Broadcasting also uses the \"vectorization\" concept. "
   ]
  },
  {
   "cell_type": "code",
   "execution_count": 17,
   "id": "39f52a6d-446f-44bf-9322-4fe807ae31d3",
   "metadata": {},
   "outputs": [
    {
     "data": {
      "text/plain": [
       "array([4, 6, 9])"
      ]
     },
     "execution_count": 17,
     "metadata": {},
     "output_type": "execute_result"
    }
   ],
   "source": [
    "# 1. Broadcasting on 1-D array using a scaler (number)\n",
    "h = np.array([4,6,9])\n",
    "h"
   ]
  },
  {
   "cell_type": "code",
   "execution_count": 18,
   "id": "38dc375e-16ee-45b0-b00b-c86f9c3ba18e",
   "metadata": {},
   "outputs": [],
   "source": [
    "h1 = h + 5"
   ]
  },
  {
   "cell_type": "code",
   "execution_count": 19,
   "id": "8f6b600a-9ff0-4255-9fad-2778f8d4e045",
   "metadata": {},
   "outputs": [
    {
     "data": {
      "text/plain": [
       "array([ 9, 11, 14])"
      ]
     },
     "execution_count": 19,
     "metadata": {},
     "output_type": "execute_result"
    }
   ],
   "source": [
    "h1 = h + 5\n",
    "h1"
   ]
  },
  {
   "cell_type": "code",
   "execution_count": 20,
   "id": "1a167db1-e2b4-42ad-bc75-5ef6ec55bdfa",
   "metadata": {},
   "outputs": [
    {
     "data": {
      "text/plain": [
       "array([2, 4, 7])"
      ]
     },
     "execution_count": 20,
     "metadata": {},
     "output_type": "execute_result"
    }
   ],
   "source": [
    "h2 = h - 2\n",
    "h2"
   ]
  },
  {
   "cell_type": "code",
   "execution_count": 21,
   "id": "543596b2-5d42-47e6-bd0e-f2dfa8fccf4c",
   "metadata": {},
   "outputs": [
    {
     "data": {
      "text/plain": [
       "array([12, 18, 27])"
      ]
     },
     "execution_count": 21,
     "metadata": {},
     "output_type": "execute_result"
    }
   ],
   "source": [
    "h3 = h * 3\n",
    "h3"
   ]
  },
  {
   "cell_type": "code",
   "execution_count": 22,
   "id": "4a42f4f5-417c-4e43-9799-97f0c7de894a",
   "metadata": {},
   "outputs": [
    {
     "data": {
      "text/plain": [
       "array([2. , 3. , 4.5])"
      ]
     },
     "execution_count": 22,
     "metadata": {},
     "output_type": "execute_result"
    }
   ],
   "source": [
    "# simple division\n",
    "h4 = h / 2\n",
    "h4"
   ]
  },
  {
   "cell_type": "code",
   "execution_count": 23,
   "id": "01ce5ff1-1f66-46b6-b51f-cc6a27ad2da0",
   "metadata": {},
   "outputs": [
    {
     "data": {
      "text/plain": [
       "array([2. , 3. , 4.5])"
      ]
     },
     "execution_count": 23,
     "metadata": {},
     "output_type": "execute_result"
    }
   ],
   "source": [
    "# floor division : drops the remaindder \n",
    "h5 = h // 2\n",
    "h4"
   ]
  },
  {
   "cell_type": "code",
   "execution_count": 24,
   "id": "605bf205-5725-4f2e-9460-890cc7524f7d",
   "metadata": {},
   "outputs": [
    {
     "data": {
      "text/plain": [
       "array([[1],\n",
       "       [2],\n",
       "       [3]])"
      ]
     },
     "execution_count": 24,
     "metadata": {},
     "output_type": "execute_result"
    }
   ],
   "source": [
    "# 2. Broadcasting on arrays with different shapes \n",
    "h6 = np.array([[1], [2], [3]])\n",
    "h6 "
   ]
  },
  {
   "cell_type": "code",
   "execution_count": 25,
   "id": "2f625ff8-b3e9-4a0b-8a48-a7be61911926",
   "metadata": {},
   "outputs": [
    {
     "data": {
      "text/plain": [
       "(3, 1)"
      ]
     },
     "execution_count": 25,
     "metadata": {},
     "output_type": "execute_result"
    }
   ],
   "source": [
    "h6.shape"
   ]
  },
  {
   "cell_type": "code",
   "execution_count": 26,
   "id": "380b68a3-31dd-487f-89d4-f5c505939f4b",
   "metadata": {},
   "outputs": [
    {
     "data": {
      "text/plain": [
       "2"
      ]
     },
     "execution_count": 26,
     "metadata": {},
     "output_type": "execute_result"
    }
   ],
   "source": [
    "h6.ndim"
   ]
  },
  {
   "cell_type": "code",
   "execution_count": 27,
   "id": "71252b06-7dac-4bf9-ba05-199788a9c51b",
   "metadata": {},
   "outputs": [
    {
     "data": {
      "text/plain": [
       "array([4, 5, 6])"
      ]
     },
     "execution_count": 27,
     "metadata": {},
     "output_type": "execute_result"
    }
   ],
   "source": [
    "h7 = np.array([4,5,6])\n",
    "h7"
   ]
  },
  {
   "cell_type": "code",
   "execution_count": 28,
   "id": "11cf472a-2f18-4daf-b18b-247219c75624",
   "metadata": {},
   "outputs": [
    {
     "data": {
      "text/plain": [
       "(3,)"
      ]
     },
     "execution_count": 28,
     "metadata": {},
     "output_type": "execute_result"
    }
   ],
   "source": [
    "h7.shape"
   ]
  },
  {
   "cell_type": "code",
   "execution_count": 29,
   "id": "1aa43a96-c67d-4d77-b548-77e490d547d6",
   "metadata": {},
   "outputs": [
    {
     "data": {
      "text/plain": [
       "1"
      ]
     },
     "execution_count": 29,
     "metadata": {},
     "output_type": "execute_result"
    }
   ],
   "source": [
    "h7.ndim"
   ]
  },
  {
   "cell_type": "code",
   "execution_count": 30,
   "id": "a0901a84-353f-4db3-aa1d-5fab6c5ef151",
   "metadata": {},
   "outputs": [
    {
     "data": {
      "text/plain": [
       "array([[5, 6, 7],\n",
       "       [6, 7, 8],\n",
       "       [7, 8, 9]])"
      ]
     },
     "execution_count": 30,
     "metadata": {},
     "output_type": "execute_result"
    }
   ],
   "source": [
    "h8 = h6 + h7\n",
    "h8"
   ]
  },
  {
   "cell_type": "markdown",
   "id": "0bff0bdb-3111-4b1c-8148-270b4a74d0f0",
   "metadata": {},
   "source": [
    "### 3. NumPy Universal Functions (ufuncs)\n",
    "1. Universal functions (ufuncs) are highly effective in performing math operations on arrays by converting iterative objects into vectors,\n",
    "2. They also use the vectorization concept."
   ]
  },
  {
   "cell_type": "code",
   "execution_count": 32,
   "id": "d3c0678b-f8f3-49cd-9e4e-9cdd85fe7def",
   "metadata": {},
   "outputs": [
    {
     "data": {
      "text/plain": [
       "array([5, 8, 3, 9])"
      ]
     },
     "execution_count": 32,
     "metadata": {},
     "output_type": "execute_result"
    }
   ],
   "source": [
    "# let's create x and y arrays \n",
    "x = np.array([5,8,3,9])\n",
    "x"
   ]
  },
  {
   "cell_type": "code",
   "execution_count": 33,
   "id": "eba9830c-d60d-485b-a01d-df17b8678ab4",
   "metadata": {},
   "outputs": [
    {
     "data": {
      "text/plain": [
       "array([2, 6, 7, 4])"
      ]
     },
     "execution_count": 33,
     "metadata": {},
     "output_type": "execute_result"
    }
   ],
   "source": [
    "y = np.array([2,6,7,4])\n",
    "y"
   ]
  },
  {
   "cell_type": "code",
   "execution_count": 34,
   "id": "94b1c703-028c-4155-9041-aa71d380ef27",
   "metadata": {},
   "outputs": [
    {
     "data": {
      "text/plain": [
       "numpy._ArrayFunctionDispatcher"
      ]
     },
     "execution_count": 34,
     "metadata": {},
     "output_type": "execute_result"
    }
   ],
   "source": [
    "# let's check out if a function is a ufunc or not\n",
    "type(np.sum)"
   ]
  },
  {
   "cell_type": "code",
   "execution_count": 35,
   "id": "1c2a8d47-89b3-419e-81d3-86deddd75a6f",
   "metadata": {},
   "outputs": [
    {
     "data": {
      "text/plain": [
       "numpy.ufunc"
      ]
     },
     "execution_count": 35,
     "metadata": {},
     "output_type": "execute_result"
    }
   ],
   "source": [
    "type(np.add)"
   ]
  },
  {
   "cell_type": "code",
   "execution_count": 36,
   "id": "d2d7c2fc-1b6a-423a-ae6c-e50d6cf6bb24",
   "metadata": {},
   "outputs": [
    {
     "data": {
      "text/plain": [
       "array([ 7, 14, 10, 13])"
      ]
     },
     "execution_count": 36,
     "metadata": {},
     "output_type": "execute_result"
    }
   ],
   "source": [
    "# 1. ufunc: addition\n",
    "ufunc1 = np.add(x,y)\n",
    "ufunc1"
   ]
  },
  {
   "cell_type": "code",
   "execution_count": 37,
   "id": "235cdf66-6f77-4e23-b96f-57cb93e3badb",
   "metadata": {},
   "outputs": [
    {
     "data": {
      "text/plain": [
       "array([-3, -2,  4, -5])"
      ]
     },
     "execution_count": 37,
     "metadata": {},
     "output_type": "execute_result"
    }
   ],
   "source": [
    "# 2. ufunc: substraction \n",
    "ufunc2 = np.subtract(y,x)\n",
    "ufunc2"
   ]
  },
  {
   "cell_type": "code",
   "execution_count": 38,
   "id": "8ee4eb5e-fa2a-439d-a07a-6ddef1359138",
   "metadata": {},
   "outputs": [
    {
     "data": {
      "text/plain": [
       "array([ 3,  2, -4,  5])"
      ]
     },
     "execution_count": 38,
     "metadata": {},
     "output_type": "execute_result"
    }
   ],
   "source": [
    "# 2. ufunc: substraction \n",
    "ufunc2_1 = np.subtract(x,y)\n",
    "ufunc2_1"
   ]
  },
  {
   "cell_type": "code",
   "execution_count": 39,
   "id": "bedef805-8517-44ec-b4f4-f4cc159b6ce9",
   "metadata": {},
   "outputs": [
    {
     "data": {
      "text/plain": [
       "array([5, 8, 3, 9])"
      ]
     },
     "execution_count": 39,
     "metadata": {},
     "output_type": "execute_result"
    }
   ],
   "source": [
    "x"
   ]
  },
  {
   "cell_type": "code",
   "execution_count": 40,
   "id": "84aa2e4e-8b0c-4413-a409-48b17dfd9419",
   "metadata": {},
   "outputs": [
    {
     "data": {
      "text/plain": [
       "array([2, 6, 7, 4])"
      ]
     },
     "execution_count": 40,
     "metadata": {},
     "output_type": "execute_result"
    }
   ],
   "source": [
    "y"
   ]
  },
  {
   "cell_type": "code",
   "execution_count": 41,
   "id": "229de95f-7fba-4e9e-aa1d-c36925032ebc",
   "metadata": {},
   "outputs": [
    {
     "data": {
      "text/plain": [
       "array([10, 48, 21, 36])"
      ]
     },
     "execution_count": 41,
     "metadata": {},
     "output_type": "execute_result"
    }
   ],
   "source": [
    "# 3. ufunc: multiplication\n",
    "ufunc3 = np.multiply(y,x)\n",
    "ufunc3"
   ]
  },
  {
   "cell_type": "code",
   "execution_count": 42,
   "id": "d7ddba9c-7ade-40db-b8ae-ee2cb90fb2cb",
   "metadata": {},
   "outputs": [
    {
     "data": {
      "text/plain": [
       "array([2.5       , 1.33333333, 0.42857143, 2.25      ])"
      ]
     },
     "execution_count": 42,
     "metadata": {},
     "output_type": "execute_result"
    }
   ],
   "source": [
    "# 4. ufunc: division\n",
    "ufunc4 = np.divide(x,y)\n",
    "ufunc4"
   ]
  },
  {
   "cell_type": "code",
   "execution_count": 43,
   "id": "ea71ef1b-81ba-4185-95bc-eb6f91c3f9cc",
   "metadata": {},
   "outputs": [
    {
     "data": {
      "text/plain": [
       "(array([2, 1, 0, 2]), array([1, 2, 3, 1]))"
      ]
     },
     "execution_count": 43,
     "metadata": {},
     "output_type": "execute_result"
    }
   ],
   "source": [
    "# 4. ufunc: divmod\n",
    "ufunc4_1 = np.divmod(x,y)\n",
    "ufunc4_1"
   ]
  },
  {
   "cell_type": "code",
   "execution_count": 44,
   "id": "027d9029-e913-4555-9b7f-b270278936da",
   "metadata": {},
   "outputs": [
    {
     "data": {
      "text/plain": [
       "array([    25, 262144,   2187,   6561])"
      ]
     },
     "execution_count": 44,
     "metadata": {},
     "output_type": "execute_result"
    }
   ],
   "source": [
    "# 5. ufunc: power\n",
    "ufunc5 = np.power(x,y)\n",
    "ufunc5"
   ]
  },
  {
   "cell_type": "code",
   "execution_count": 45,
   "id": "0573dd6a-7ff1-4c39-b63e-2cddf1cf00c4",
   "metadata": {},
   "outputs": [
    {
     "data": {
      "text/plain": [
       "array([1, 2, 3, 1])"
      ]
     },
     "execution_count": 45,
     "metadata": {},
     "output_type": "execute_result"
    }
   ],
   "source": [
    "# 6. ufunc: remainder\n",
    "ufunc6 = np.remainder(x,y)\n",
    "ufunc6"
   ]
  },
  {
   "cell_type": "code",
   "execution_count": 46,
   "id": "ca410c71-02f1-4506-918d-7fe2d8fba2cc",
   "metadata": {},
   "outputs": [
    {
     "data": {
      "text/plain": [
       "array([1, 2, 3, 1])"
      ]
     },
     "execution_count": 46,
     "metadata": {},
     "output_type": "execute_result"
    }
   ],
   "source": [
    "# 6. ufunc: mod()\n",
    "ufunc6_1 = np.mod(x,y)\n",
    "ufunc6_1"
   ]
  },
  {
   "cell_type": "code",
   "execution_count": 47,
   "id": "4643b020-c197-4cae-b39a-f7460fce3d82",
   "metadata": {},
   "outputs": [
    {
     "data": {
      "text/plain": [
       "array([8, 3, 2, 5, 6])"
      ]
     },
     "execution_count": 47,
     "metadata": {},
     "output_type": "execute_result"
    }
   ],
   "source": [
    "# 7. ufunc: absolute()\n",
    "x1 = np.array([8, -3, 2, -5, -6])\n",
    "ufunc7 = np.absolute(x1)\n",
    "ufunc7"
   ]
  },
  {
   "cell_type": "code",
   "execution_count": 48,
   "id": "39b82835-7010-403e-a34e-fbcbcf1559bf",
   "metadata": {},
   "outputs": [
    {
     "data": {
      "text/plain": [
       "array([-3.,  2.])"
      ]
     },
     "execution_count": 48,
     "metadata": {},
     "output_type": "execute_result"
    }
   ],
   "source": [
    "# 8. ufunc: truncation: removing decimals: trunc()\n",
    "y1 = np.array([-3.1666, 2.457])\n",
    "ufunc8 = np.trunc(y1)\n",
    "ufunc8"
   ]
  },
  {
   "cell_type": "code",
   "execution_count": 49,
   "id": "af8ab6c8-88a6-4cbc-93cf-51f3cc4e7192",
   "metadata": {},
   "outputs": [
    {
     "data": {
      "text/plain": [
       "array([-3.,  2.])"
      ]
     },
     "execution_count": 49,
     "metadata": {},
     "output_type": "execute_result"
    }
   ],
   "source": [
    "y1 = np.array([-3.1666, 2.457])\n",
    "ufunc8 = np.fix(y1)\n",
    "ufunc8"
   ]
  },
  {
   "cell_type": "code",
   "execution_count": 50,
   "id": "26e1cb1d-0d9e-47c5-b0fd-036022266b60",
   "metadata": {},
   "outputs": [
    {
     "data": {
      "text/plain": [
       "6.0"
      ]
     },
     "execution_count": 50,
     "metadata": {},
     "output_type": "execute_result"
    }
   ],
   "source": [
    "# 9. ufunc: around(): rounding decimals \n",
    "ufunc9 = np.around(6.166)\n",
    "ufunc9"
   ]
  },
  {
   "cell_type": "code",
   "execution_count": 51,
   "id": "08114f39-e62c-4e11-a967-6f24159cdada",
   "metadata": {},
   "outputs": [
    {
     "data": {
      "text/plain": [
       "array([ 6., -3.])"
      ]
     },
     "execution_count": 51,
     "metadata": {},
     "output_type": "execute_result"
    }
   ],
   "source": [
    "# 10. ufunc: floor(): rounding decimals to the nearest lower integer\n",
    "ufunc10 = np.floor([6.166, -2.444])\n",
    "ufunc10"
   ]
  },
  {
   "cell_type": "code",
   "execution_count": 52,
   "id": "b496cf52-9f8f-4ed8-b4ce-51c9513ce4c9",
   "metadata": {},
   "outputs": [
    {
     "data": {
      "text/plain": [
       "array([2.32192809, 3.32192809, 3.9068906 ])"
      ]
     },
     "execution_count": 52,
     "metadata": {},
     "output_type": "execute_result"
    }
   ],
   "source": [
    "# 11. ufunc: log2(): getting log base 2 \n",
    "x2 = np.array([5,10,15])\n",
    "ufunc11 = np.log2(x2)\n",
    "ufunc11"
   ]
  },
  {
   "cell_type": "code",
   "execution_count": 53,
   "id": "cd87e65e-0bb4-48d5-9f5d-67ff9b4a03a3",
   "metadata": {},
   "outputs": [
    {
     "data": {
      "text/plain": [
       "array([0.69897   , 1.        , 1.17609126])"
      ]
     },
     "execution_count": 53,
     "metadata": {},
     "output_type": "execute_result"
    }
   ],
   "source": [
    "# 11. ufunc: log10(): getting log base 10 \n",
    "x2 = np.array([5,10,15])\n",
    "ufunc11_1 = np.log10(x2)\n",
    "ufunc11_1"
   ]
  },
  {
   "cell_type": "code",
   "execution_count": 54,
   "id": "36e3aa28-3fa7-41f4-a1f8-f891d07fb907",
   "metadata": {},
   "outputs": [
    {
     "data": {
      "text/plain": [
       "750"
      ]
     },
     "execution_count": 54,
     "metadata": {},
     "output_type": "execute_result"
    }
   ],
   "source": [
    "# 12. ufunc: prod(): getting the product \n",
    "x2 = np.array([5,10,15])\n",
    "ufunc12 = np.prod(x2)\n",
    "ufunc12"
   ]
  },
  {
   "cell_type": "code",
   "execution_count": 55,
   "id": "5de96bfd-1720-4422-8e9f-8d8f4ce711d3",
   "metadata": {},
   "outputs": [
    {
     "data": {
      "text/plain": [
       "31500"
      ]
     },
     "execution_count": 55,
     "metadata": {},
     "output_type": "execute_result"
    }
   ],
   "source": [
    "# 12. ufunc: prod(): getting the product : 5*10*15*3*7*2\n",
    "x2 = np.array([5,10,15])\n",
    "y2 = np.array([3,7,2])\n",
    "\n",
    "ufunc12_1 = np.prod([x2,y2])\n",
    "ufunc12_1"
   ]
  },
  {
   "cell_type": "code",
   "execution_count": 56,
   "id": "b2934618-f188-49be-bee4-6a49cc05484f",
   "metadata": {},
   "outputs": [
    {
     "data": {
      "text/plain": [
       "90"
      ]
     },
     "execution_count": 56,
     "metadata": {},
     "output_type": "execute_result"
    }
   ],
   "source": [
    "# 13. ufunc: lcm(): lowest common multiple\n",
    "# reduce (): displays a single element\n",
    "x2 = np.array([5,10,15,18])\n",
    "ufunc13 = np.lcm.reduce(x2)\n",
    "ufunc13"
   ]
  },
  {
   "cell_type": "code",
   "execution_count": 57,
   "id": "2483299e-9305-4a07-9a90-d4aaaf90f39f",
   "metadata": {},
   "outputs": [
    {
     "data": {
      "text/plain": [
       "2"
      ]
     },
     "execution_count": 57,
     "metadata": {},
     "output_type": "execute_result"
    }
   ],
   "source": [
    "# 14. ufunc: gcd(): greatest common divisor\n",
    "# reduce (): displays a single element\n",
    "x2 = np.array([20,10,32,16])\n",
    "ufunc14 = np.gcd.reduce(x2)\n",
    "ufunc14"
   ]
  },
  {
   "cell_type": "markdown",
   "id": "39c42b20-bd33-41ec-a59e-7b4b5d734e3f",
   "metadata": {},
   "source": [
    "### Conclusion\n",
    "- Add 15 points that you learned from completing this lab\n",
    "1. np.sum() provides the sum of all elements in an array.\n",
    "2. np.mean() provides the mean of an array.\n",
    "3. np.average() also provides the mean of an array.\n",
    "4. np.max() identifies the maximum values in an array.\n",
    "5. np.min() identifies the minimum values in an array.\n",
    "6. np.median() provides the median value of an array.\n",
    "7. np.std() calculates the standard deviation of an array.\n",
    "8. Understanding NumPy Fundamentals is essential for working with large datasets and performing efficient numerical computations.\n",
    "9. Broadcasting allows arithmetic operations on arrays of different shapes without explicit looping.\n",
    "10. Vectorization makes calculations faster by simultaneously applying operations to whole arrays instead of going element by element.\n",
    "11. Universal Functions (ufuncs) are built-in NumPy functions that quickly perform math on arrays.\n",
    "12. Using ufuncs instead of loops makes your code run faster.\n",
    "13. For floor division, we use //\n",
    "14. Broadcasting lets you apply math to arrays of different sizes.\n",
    "15. The np.absolute() function converts all negative numbers in an array to positive values"
   ]
  },
  {
   "cell_type": "markdown",
   "id": "cdcdba1f-a2fe-48b4-90f2-4b00005e7f68",
   "metadata": {},
   "source": [
    "#### End of Lab 04."
   ]
  },
  {
   "cell_type": "code",
   "execution_count": null,
   "id": "fcb64f7d-5f61-4d01-82c8-620bda219a89",
   "metadata": {},
   "outputs": [],
   "source": []
  }
 ],
 "metadata": {
  "kernelspec": {
   "display_name": "Python [conda env:base] *",
   "language": "python",
   "name": "conda-base-py"
  },
  "language_info": {
   "codemirror_mode": {
    "name": "ipython",
    "version": 3
   },
   "file_extension": ".py",
   "mimetype": "text/x-python",
   "name": "python",
   "nbconvert_exporter": "python",
   "pygments_lexer": "ipython3",
   "version": "3.12.7"
  }
 },
 "nbformat": 4,
 "nbformat_minor": 5
}
