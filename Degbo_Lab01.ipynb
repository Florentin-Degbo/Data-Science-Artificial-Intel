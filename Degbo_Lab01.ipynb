{
 "cells": [
  {
   "cell_type": "markdown",
   "id": "f66f1ffa-1eb8-427b-88f4-9a1cbd6f24a4",
   "metadata": {},
   "source": [
    "# Lab 01 - Python Data types & Crash Course - Florentin Degbo"
   ]
  },
  {
   "cell_type": "markdown",
   "id": "589e51a5-d131-4808-a13b-d320491f024b",
   "metadata": {},
   "source": [
    "### Types of Data\n",
    "1. strings (str): texts and characters\n",
    "2. integers (int): whole numbers\n",
    "3. float (float): decimal numbers\n",
    "4. Boolean (bool): the outputs are only True and False\n",
    "5. complex: mixture of numbers and characters"
   ]
  },
  {
   "cell_type": "markdown",
   "id": "333c1c02-cc01-472a-b8b8-48b130ea95aa",
   "metadata": {},
   "source": [
    "### Variables\n",
    "- Python objects that act as a container to store data\n",
    "\n",
    "##### Naming Rules:\n",
    "1. Cannot start a variable's name with a number\n",
    "2. Cannot have space in variable's name\n",
    "3. Camel-case: wordApp\n",
    "4. under_score: word_app\n",
    "5. Should be descriptive\n"
   ]
  },
  {
   "cell_type": "code",
   "execution_count": 4,
   "id": "d3b271bc-3c56-49c8-9503-f45e45012c4a",
   "metadata": {},
   "outputs": [
    {
     "data": {
      "text/plain": [
       "\"I'm a teacher.\""
      ]
     },
     "execution_count": 4,
     "metadata": {},
     "output_type": "execute_result"
    }
   ],
   "source": [
    "a = \"I'm a teacher.\"\n",
    "a"
   ]
  },
  {
   "cell_type": "code",
   "execution_count": 5,
   "id": "d468d93a-fd81-4d54-bbd5-7e0991072dfc",
   "metadata": {},
   "outputs": [],
   "source": [
    "b = 'I am a student.'"
   ]
  },
  {
   "cell_type": "code",
   "execution_count": 6,
   "id": "d3201f85-3aba-4d9b-ae49-66d634c390ed",
   "metadata": {},
   "outputs": [
    {
     "name": "stdout",
     "output_type": "stream",
     "text": [
      "I'm a teacher.\n"
     ]
    }
   ],
   "source": [
    "print(a)"
   ]
  },
  {
   "cell_type": "code",
   "execution_count": 7,
   "id": "baa7f749-baf1-4360-a0b4-f487c67e3fc7",
   "metadata": {},
   "outputs": [
    {
     "data": {
      "text/plain": [
       "str"
      ]
     },
     "execution_count": 7,
     "metadata": {},
     "output_type": "execute_result"
    }
   ],
   "source": [
    "type(a)"
   ]
  },
  {
   "cell_type": "code",
   "execution_count": 8,
   "id": "eb11cadf-abef-4318-a0dd-28e80b56d917",
   "metadata": {},
   "outputs": [
    {
     "data": {
      "text/plain": [
       "5"
      ]
     },
     "execution_count": 8,
     "metadata": {},
     "output_type": "execute_result"
    }
   ],
   "source": [
    "c = 5\n",
    "c"
   ]
  },
  {
   "cell_type": "code",
   "execution_count": 9,
   "id": "61811c19-ea30-4243-b7f3-100f619e3cae",
   "metadata": {},
   "outputs": [
    {
     "data": {
      "text/plain": [
       "int"
      ]
     },
     "execution_count": 9,
     "metadata": {},
     "output_type": "execute_result"
    }
   ],
   "source": [
    "type(c)"
   ]
  },
  {
   "cell_type": "code",
   "execution_count": 10,
   "id": "60f68090-7df7-4b3d-9ab8-d56c8be98037",
   "metadata": {},
   "outputs": [
    {
     "data": {
      "text/plain": [
       "3.14"
      ]
     },
     "execution_count": 10,
     "metadata": {},
     "output_type": "execute_result"
    }
   ],
   "source": [
    "d = 3.14\n",
    "d"
   ]
  },
  {
   "cell_type": "code",
   "execution_count": 11,
   "id": "d0014c9f-d050-452a-8436-c5b10d0fd336",
   "metadata": {},
   "outputs": [
    {
     "data": {
      "text/plain": [
       "float"
      ]
     },
     "execution_count": 11,
     "metadata": {},
     "output_type": "execute_result"
    }
   ],
   "source": [
    "type(d)"
   ]
  },
  {
   "cell_type": "code",
   "execution_count": 12,
   "id": "fa7dfbd9-6144-4516-8246-023c96abf1b6",
   "metadata": {},
   "outputs": [
    {
     "data": {
      "text/plain": [
       "True"
      ]
     },
     "execution_count": 12,
     "metadata": {},
     "output_type": "execute_result"
    }
   ],
   "source": [
    "e = 6 != 8\n",
    "e"
   ]
  },
  {
   "cell_type": "code",
   "execution_count": 13,
   "id": "c545a39c-7250-4930-b152-5922bbbed8c9",
   "metadata": {},
   "outputs": [
    {
     "data": {
      "text/plain": [
       "(3+4j)"
      ]
     },
     "execution_count": 13,
     "metadata": {},
     "output_type": "execute_result"
    }
   ],
   "source": [
    "f = 3 + 4j\n",
    "f"
   ]
  },
  {
   "cell_type": "code",
   "execution_count": 14,
   "id": "ac1bf183-e569-41e2-b759-27d18e6099cd",
   "metadata": {},
   "outputs": [
    {
     "data": {
      "text/plain": [
       "complex"
      ]
     },
     "execution_count": 14,
     "metadata": {},
     "output_type": "execute_result"
    }
   ],
   "source": [
    "type(f)"
   ]
  },
  {
   "cell_type": "code",
   "execution_count": 15,
   "id": "d7b26941-af16-4f2d-a3ab-cfe8c5663ca6",
   "metadata": {},
   "outputs": [
    {
     "name": "stdout",
     "output_type": "stream",
     "text": [
      "Variable               Type        Data/Info\n",
      "--------------------------------------------\n",
      "a                      str         I'm a teacher.\n",
      "b                      str         I am a student.\n",
      "c                      int         5\n",
      "d                      float       3.14\n",
      "dataframe_columns      function    <function dataframe_colum<...>ns at 0x000002729D389800>\n",
      "dataframe_hash         function    <function dataframe_hash at 0x000002729AC25760>\n",
      "dtypes_str             function    <function dtypes_str at 0x000002729D389940>\n",
      "e                      bool        True\n",
      "f                      complex     (3+4j)\n",
      "get_dataframes         function    <function get_dataframes at 0x000002729D1B5260>\n",
      "getpass                module      <module 'getpass' from 'C<...>conda3\\\\Lib\\\\getpass.py'>\n",
      "hashlib                module      <module 'hashlib' from 'C<...>conda3\\\\Lib\\\\hashlib.py'>\n",
      "import_pandas_safely   function    <function import_pandas_s<...>ly at 0x000002729D3899E0>\n",
      "is_data_frame          function    <function is_data_frame at 0x000002729D389A80>\n",
      "json                   module      <module 'json' from 'C:\\\\<...>\\Lib\\\\json\\\\__init__.py'>\n"
     ]
    }
   ],
   "source": [
    "%whos"
   ]
  },
  {
   "cell_type": "markdown",
   "id": "cd8ccd78-850d-40c0-ab9e-17aa95b45f10",
   "metadata": {},
   "source": [
    "# deleting a variable \n",
    "del a_b"
   ]
  },
  {
   "cell_type": "markdown",
   "id": "e2c966e9-4214-48ca-a9c9-54c379ba0ff6",
   "metadata": {},
   "source": [
    "### Operators"
   ]
  },
  {
   "cell_type": "code",
   "execution_count": 18,
   "id": "c639e956-16c8-4883-979e-224b3146651e",
   "metadata": {},
   "outputs": [
    {
     "data": {
      "text/plain": [
       "6"
      ]
     },
     "execution_count": 18,
     "metadata": {},
     "output_type": "execute_result"
    }
   ],
   "source": [
    "g = 2 * 3 \n",
    "g"
   ]
  },
  {
   "cell_type": "code",
   "execution_count": 19,
   "id": "b5e1ead5-b4a6-4f72-80c1-9415e33d270a",
   "metadata": {},
   "outputs": [
    {
     "data": {
      "text/plain": [
       "1"
      ]
     },
     "execution_count": 19,
     "metadata": {},
     "output_type": "execute_result"
    }
   ],
   "source": [
    "h = 8 -7\n",
    "h"
   ]
  },
  {
   "cell_type": "code",
   "execution_count": 20,
   "id": "a264299b-09e6-42c7-a2a1-b61b43eb2179",
   "metadata": {},
   "outputs": [
    {
     "data": {
      "text/plain": [
       "3.3333333333333335"
      ]
     },
     "execution_count": 20,
     "metadata": {},
     "output_type": "execute_result"
    }
   ],
   "source": [
    "i = 10 / 3 \n",
    "i"
   ]
  },
  {
   "cell_type": "code",
   "execution_count": 21,
   "id": "0bdb00a1-1f93-4ad4-a263-59d7a28c1689",
   "metadata": {},
   "outputs": [
    {
     "data": {
      "text/plain": [
       "3"
      ]
     },
     "execution_count": 21,
     "metadata": {},
     "output_type": "execute_result"
    }
   ],
   "source": [
    "round(10/3)"
   ]
  },
  {
   "cell_type": "code",
   "execution_count": 22,
   "id": "81bbba40-0678-42c1-9ed8-840eb7a59b14",
   "metadata": {},
   "outputs": [
    {
     "data": {
      "text/plain": [
       "2"
      ]
     },
     "execution_count": 22,
     "metadata": {},
     "output_type": "execute_result"
    }
   ],
   "source": [
    "round(6/4)"
   ]
  },
  {
   "cell_type": "code",
   "execution_count": 23,
   "id": "13536384-d37d-4bff-8e27-0dfeb05f445d",
   "metadata": {},
   "outputs": [
    {
     "data": {
      "text/plain": [
       "4.558"
      ]
     },
     "execution_count": 23,
     "metadata": {},
     "output_type": "execute_result"
    }
   ],
   "source": [
    "round (4.5584, 3)"
   ]
  },
  {
   "cell_type": "code",
   "execution_count": 24,
   "id": "d915f6b5-4d1d-436f-872f-07a247a04677",
   "metadata": {},
   "outputs": [
    {
     "data": {
      "text/plain": [
       "3"
      ]
     },
     "execution_count": 24,
     "metadata": {},
     "output_type": "execute_result"
    }
   ],
   "source": [
    "j = 10 // 3 # this is called floor division: drops the remainder\n",
    "j"
   ]
  },
  {
   "cell_type": "code",
   "execution_count": 25,
   "id": "ab84c4dc-0182-40c3-ba5f-bc753d0e242e",
   "metadata": {},
   "outputs": [
    {
     "data": {
      "text/plain": [
       "1"
      ]
     },
     "execution_count": 25,
     "metadata": {},
     "output_type": "execute_result"
    }
   ],
   "source": [
    "k = 10 % 3 # this is called the modulus: it displays only the the remainder\n",
    "k"
   ]
  },
  {
   "cell_type": "code",
   "execution_count": 26,
   "id": "6d1adbf9-a687-4e2c-8966-61c66b0161de",
   "metadata": {},
   "outputs": [
    {
     "data": {
      "text/plain": [
       "(3, 1)"
      ]
     },
     "execution_count": 26,
     "metadata": {},
     "output_type": "execute_result"
    }
   ],
   "source": [
    "l = divmod(10, 3) # it displays both the quotient and the remainder\n",
    "l"
   ]
  },
  {
   "cell_type": "code",
   "execution_count": 27,
   "id": "0da584ea-c73d-40e3-ac0b-b837f08133d9",
   "metadata": {},
   "outputs": [
    {
     "name": "stdout",
     "output_type": "stream",
     "text": [
      "Help on built-in function divmod in module builtins:\n",
      "\n",
      "divmod(x, y, /)\n",
      "    Return the tuple (x//y, x%y).  Invariant: div*y + mod == x.\n",
      "\n"
     ]
    }
   ],
   "source": [
    "help(divmod)"
   ]
  },
  {
   "cell_type": "code",
   "execution_count": 28,
   "id": "eb3ef2e6-11f6-4dc3-a1af-dc5440923b2e",
   "metadata": {},
   "outputs": [
    {
     "data": {
      "text/plain": [
       "27"
      ]
     },
     "execution_count": 28,
     "metadata": {},
     "output_type": "execute_result"
    }
   ],
   "source": [
    "m = pow(3,3)\n",
    "m"
   ]
  },
  {
   "cell_type": "code",
   "execution_count": 29,
   "id": "36362f37-7f51-4071-a184-201694056745",
   "metadata": {},
   "outputs": [
    {
     "data": {
      "text/plain": [
       "27"
      ]
     },
     "execution_count": 29,
     "metadata": {},
     "output_type": "execute_result"
    }
   ],
   "source": [
    "3**3"
   ]
  },
  {
   "cell_type": "code",
   "execution_count": 30,
   "id": "6d92abbd-d0be-4514-8d00-08e0c6616fe2",
   "metadata": {},
   "outputs": [
    {
     "data": {
      "text/plain": [
       "False"
      ]
     },
     "execution_count": 30,
     "metadata": {},
     "output_type": "execute_result"
    }
   ],
   "source": [
    "isinstance(2.0, int)"
   ]
  },
  {
   "cell_type": "markdown",
   "id": "e362e5af-75a4-4b62-a901-47c7030e806d",
   "metadata": {},
   "source": [
    "### Conclusion:\n",
    "- Add 10 takeways that you learn from completing this lab.\n",
    "\n",
    "1. del is not a function\n",
    "2. "
   ]
  },
  {
   "cell_type": "markdown",
   "id": "e2002e49-34d6-4fb2-af40-917e74b7a365",
   "metadata": {},
   "source": [
    "#### End of Lab 01."
   ]
  },
  {
   "cell_type": "code",
   "execution_count": null,
   "id": "a3ae7600-559c-4ca5-848d-079c8df1b06d",
   "metadata": {},
   "outputs": [],
   "source": []
  }
 ],
 "metadata": {
  "kernelspec": {
   "display_name": "Python [conda env:base] *",
   "language": "python",
   "name": "conda-base-py"
  },
  "language_info": {
   "codemirror_mode": {
    "name": "ipython",
    "version": 3
   },
   "file_extension": ".py",
   "mimetype": "text/x-python",
   "name": "python",
   "nbconvert_exporter": "python",
   "pygments_lexer": "ipython3",
   "version": "3.12.7"
  }
 },
 "nbformat": 4,
 "nbformat_minor": 5
}
