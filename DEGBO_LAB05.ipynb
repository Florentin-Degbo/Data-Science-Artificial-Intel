{
 "cells": [
  {
   "cell_type": "markdown",
   "id": "6adb20a2-c397-4549-8c3d-e950c91c7a08",
   "metadata": {},
   "source": [
    "# Lab 05 - Pandas Library - Florentin Degbo"
   ]
  },
  {
   "cell_type": "markdown",
   "id": "9899db87-a3bc-46d5-9c27-342a54c2bef8",
   "metadata": {},
   "source": [
    "#### Pandas Library:\n",
    "1. Pandas is another powerful Python library in manipulating data,\n",
    "2. It is built on top of NumPy,\n",
    "3. While NumPy handles mainly numeric dtypes, Pandas librairy handles both string and numeric values,\n",
    "4. There are two main data structures in Pandas: Series and DataFrames\n",
    "     - Series are 1-D (one-dimensional) structure,\n",
    "     - DataFrames (df) are 2-D (two dimensional) structures: 2_D is a tabular dataset (having rows and columns).\n",
    "5. The most reliable source for Pandas is: https://pandas.pydata.org/"
   ]
  },
  {
   "cell_type": "markdown",
   "id": "02852aab-37e2-496a-8d57-1c6ca9d335e9",
   "metadata": {},
   "source": [
    "### Installing an Importing Pandas Library"
   ]
  },
  {
   "cell_type": "code",
   "execution_count": 4,
   "id": "5dfd36e8-b23f-4028-bdcd-dfb156b730e5",
   "metadata": {},
   "outputs": [
    {
     "name": "stdout",
     "output_type": "stream",
     "text": [
      "Requirement already satisfied: pandas in c:\\users\\flore\\anaconda3\\lib\\site-packages (2.2.2)\n",
      "Requirement already satisfied: numpy>=1.26.0 in c:\\users\\flore\\anaconda3\\lib\\site-packages (from pandas) (1.26.4)\n",
      "Requirement already satisfied: python-dateutil>=2.8.2 in c:\\users\\flore\\anaconda3\\lib\\site-packages (from pandas) (2.9.0.post0)\n",
      "Requirement already satisfied: pytz>=2020.1 in c:\\users\\flore\\anaconda3\\lib\\site-packages (from pandas) (2024.1)\n",
      "Requirement already satisfied: tzdata>=2022.7 in c:\\users\\flore\\anaconda3\\lib\\site-packages (from pandas) (2023.3)\n",
      "Requirement already satisfied: six>=1.5 in c:\\users\\flore\\anaconda3\\lib\\site-packages (from python-dateutil>=2.8.2->pandas) (1.16.0)\n"
     ]
    }
   ],
   "source": [
    "# le's install pandas\n",
    "!pip install pandas"
   ]
  },
  {
   "cell_type": "code",
   "execution_count": 5,
   "id": "cd461dc5-ef0f-4634-833d-57de9d70de28",
   "metadata": {},
   "outputs": [],
   "source": [
    "# let's import pandas\n",
    "import numpy as np\n",
    "import pandas as pd # pd is the alias for pandas"
   ]
  },
  {
   "cell_type": "code",
   "execution_count": 6,
   "id": "c8a6c423-650a-491d-8b05-4e64c220a536",
   "metadata": {},
   "outputs": [
    {
     "name": "stdout",
     "output_type": "stream",
     "text": [
      "2.2.2\n"
     ]
    }
   ],
   "source": [
    "# let's check the version of pandas we are using here\n",
    "print(pd.__version__)"
   ]
  },
  {
   "cell_type": "markdown",
   "id": "ee1067aa-30e3-4688-9b12-28862335b9c6",
   "metadata": {},
   "source": [
    "### Data Structures in Pandas\n",
    "1. Series: It is made up two parts:\n",
    "    - Index (label)\n",
    "    - The values (1-D column)\n",
    "2. DataFrames (df): It is made up of rows and columns"
   ]
  },
  {
   "cell_type": "markdown",
   "id": "c0d2b2b9-1cb9-42fa-98e3-095e12c47ae4",
   "metadata": {},
   "source": [
    "#### 1. Series"
   ]
  },
  {
   "cell_type": "code",
   "execution_count": 9,
   "id": "641057c5-91f4-49aa-a8e5-c42187dae5d1",
   "metadata": {},
   "outputs": [
    {
     "data": {
      "text/plain": [
       "0     67\n",
       "1     45\n",
       "2     23\n",
       "3    100\n",
       "4    105\n",
       "Name: Grades, dtype: int64"
      ]
     },
     "execution_count": 9,
     "metadata": {},
     "output_type": "execute_result"
    }
   ],
   "source": [
    "# 1. let's create a Pandas Series using a Python list # pandas by default assign index but not part of the dataset\n",
    "s = pd.Series([67, 45, 23, 100, 105], name='Grades')\n",
    "s"
   ]
  },
  {
   "cell_type": "code",
   "execution_count": 10,
   "id": "d61f4911-dd5b-4a56-97a6-e6d967799215",
   "metadata": {},
   "outputs": [
    {
     "data": {
      "text/plain": [
       "pandas.core.series.Series"
      ]
     },
     "execution_count": 10,
     "metadata": {},
     "output_type": "execute_result"
    }
   ],
   "source": [
    "# let's see the type of s\n",
    "type(s)"
   ]
  },
  {
   "cell_type": "code",
   "execution_count": 11,
   "id": "e453224a-b299-4bdd-9a62-405861fc217b",
   "metadata": {},
   "outputs": [
    {
     "data": {
      "text/plain": [
       "1                 swan\n",
       "2                 dove\n",
       "Thanksgiving    turkey\n",
       "4               parrot\n",
       "Degbo            eagle\n",
       "Name: birds, dtype: object"
      ]
     },
     "execution_count": 11,
     "metadata": {},
     "output_type": "execute_result"
    }
   ],
   "source": [
    "# 2. let's create a Pandas Series using a Python dictionary #indexing has been assigned reason why it doesnt start with 0\n",
    "s1 = pd.Series({1:'swan', 2:'dove', 'Thanksgiving':'turkey', 4:'parrot', 'Degbo':'eagle'}, name='birds')\n",
    "s1"
   ]
  },
  {
   "cell_type": "code",
   "execution_count": 12,
   "id": "98fb6323-d81f-42e7-a9a2-f222b3a156eb",
   "metadata": {},
   "outputs": [
    {
     "data": {
      "text/plain": [
       "pandas.core.series.Series"
      ]
     },
     "execution_count": 12,
     "metadata": {},
     "output_type": "execute_result"
    }
   ],
   "source": [
    "type(s1)"
   ]
  },
  {
   "cell_type": "code",
   "execution_count": 13,
   "id": "d94cd629-9f48-4e68-b78d-dcabaeec748f",
   "metadata": {},
   "outputs": [
    {
     "data": {
      "text/plain": [
       "Index([1, 2, 'Thanksgiving', 4, 'Degbo'], dtype='object')"
      ]
     },
     "execution_count": 13,
     "metadata": {},
     "output_type": "execute_result"
    }
   ],
   "source": [
    "# let's see the index of s1\n",
    "s1.index"
   ]
  },
  {
   "cell_type": "code",
   "execution_count": 14,
   "id": "c61801c9-0580-48be-a26e-94055c8cb82d",
   "metadata": {},
   "outputs": [
    {
     "data": {
      "text/plain": [
       "1"
      ]
     },
     "execution_count": 14,
     "metadata": {},
     "output_type": "execute_result"
    }
   ],
   "source": [
    "s1.ndim"
   ]
  },
  {
   "cell_type": "markdown",
   "id": "414c4ff8-173e-4032-8b0a-3becfdea54df",
   "metadata": {},
   "source": [
    "### Indexing and Slicing Pandas Series"
   ]
  },
  {
   "cell_type": "code",
   "execution_count": 16,
   "id": "ed9a0d62-ccba-492f-9417-49f2f3267e35",
   "metadata": {},
   "outputs": [
    {
     "data": {
      "text/plain": [
       "'eagle'"
      ]
     },
     "execution_count": 16,
     "metadata": {},
     "output_type": "execute_result"
    }
   ],
   "source": [
    "# let's have eagle as the output: indexing a series\n",
    "s1['Degbo']"
   ]
  },
  {
   "cell_type": "code",
   "execution_count": 17,
   "id": "ae6ddcca-43dc-4277-b6a7-4236818924be",
   "metadata": {},
   "outputs": [
    {
     "data": {
      "text/plain": [
       "0    67\n",
       "1    45\n",
       "2    23\n",
       "Name: Grades, dtype: int64"
      ]
     },
     "execution_count": 17,
     "metadata": {},
     "output_type": "execute_result"
    }
   ],
   "source": [
    "# slicing a series: display the first 3 elements of s\n",
    "s[:3]"
   ]
  },
  {
   "cell_type": "markdown",
   "id": "3629ed25-2470-4189-a58d-df49c6fed00a",
   "metadata": {},
   "source": [
    "#### 2. DataFrames (df)\n",
    "1. A Pandas' DataFrame is a 2- array with rows and columns,\n",
    "2. DataFrames are the most common used daa structures,\n",
    "3. There are two axes in a DataFrame: axis=0 (rows), axis=1 (columns),\n",
    "4. Python dictionaries are the only 2-D data structures in Python,\n",
    "5. Pandas DataFrames can be created from a collection of Python dictionaries,\n"
   ]
  },
  {
   "cell_type": "code",
   "execution_count": 19,
   "id": "8b6a3365-8b34-45b0-b460-2dfbd4d079fa",
   "metadata": {},
   "outputs": [
    {
     "data": {
      "text/plain": [
       "[{100: 'swan',\n",
       "  2: 'dove',\n",
       "  'Thanksgiving': 'turkey',\n",
       "  4: 'parrot',\n",
       "  'Degbo': 'eagle'},\n",
       " {1: 'a', 2: 'b', 3: 'c', 4: 'd', 5: 'e'}]"
      ]
     },
     "execution_count": 19,
     "metadata": {},
     "output_type": "execute_result"
    }
   ],
   "source": [
    "# 1. creating df using Python dictionaries \n",
    "d = [{100:'swan', 2:'dove', 'Thanksgiving':'turkey', 4:'parrot', 'Degbo':'eagle'},\n",
    "{1:'a', 2:'b', 3:'c', 4:'d', 5:'e'}]\n",
    "d"
   ]
  },
  {
   "cell_type": "code",
   "execution_count": 20,
   "id": "fd6f5ba9-c04b-4af9-a044-26ae391e2542",
   "metadata": {},
   "outputs": [
    {
     "data": {
      "text/html": [
       "<div>\n",
       "<style scoped>\n",
       "    .dataframe tbody tr th:only-of-type {\n",
       "        vertical-align: middle;\n",
       "    }\n",
       "\n",
       "    .dataframe tbody tr th {\n",
       "        vertical-align: top;\n",
       "    }\n",
       "\n",
       "    .dataframe thead th {\n",
       "        text-align: right;\n",
       "    }\n",
       "</style>\n",
       "<table border=\"1\" class=\"dataframe\">\n",
       "  <thead>\n",
       "    <tr style=\"text-align: right;\">\n",
       "      <th></th>\n",
       "      <th>100</th>\n",
       "      <th>2</th>\n",
       "      <th>Thanksgiving</th>\n",
       "      <th>4</th>\n",
       "      <th>Degbo</th>\n",
       "      <th>1</th>\n",
       "      <th>3</th>\n",
       "      <th>5</th>\n",
       "    </tr>\n",
       "  </thead>\n",
       "  <tbody>\n",
       "    <tr>\n",
       "      <th>0</th>\n",
       "      <td>swan</td>\n",
       "      <td>dove</td>\n",
       "      <td>turkey</td>\n",
       "      <td>parrot</td>\n",
       "      <td>eagle</td>\n",
       "      <td>NaN</td>\n",
       "      <td>NaN</td>\n",
       "      <td>NaN</td>\n",
       "    </tr>\n",
       "    <tr>\n",
       "      <th>1</th>\n",
       "      <td>NaN</td>\n",
       "      <td>b</td>\n",
       "      <td>NaN</td>\n",
       "      <td>d</td>\n",
       "      <td>NaN</td>\n",
       "      <td>a</td>\n",
       "      <td>c</td>\n",
       "      <td>e</td>\n",
       "    </tr>\n",
       "  </tbody>\n",
       "</table>\n",
       "</div>"
      ],
      "text/plain": [
       "    100     2 Thanksgiving       4  Degbo    1    3    5\n",
       "0  swan  dove       turkey  parrot  eagle  NaN  NaN  NaN\n",
       "1   NaN     b          NaN       d    NaN    a    c    e"
      ]
     },
     "execution_count": 20,
     "metadata": {},
     "output_type": "execute_result"
    }
   ],
   "source": [
    "# let's convert d list to a dataframe named df #NaN type of missing values\n",
    "df_1 = pd.DataFrame(d)\n",
    "df_1"
   ]
  },
  {
   "cell_type": "code",
   "execution_count": 21,
   "id": "b08dd0f7-85f3-4080-84a1-99cf9550cbf4",
   "metadata": {},
   "outputs": [
    {
     "data": {
      "text/plain": [
       "pandas.core.frame.DataFrame"
      ]
     },
     "execution_count": 21,
     "metadata": {},
     "output_type": "execute_result"
    }
   ],
   "source": [
    "type(df_1)"
   ]
  },
  {
   "cell_type": "markdown",
   "id": "b97f52b7-de3b-4e20-9f77-03f5b55cc0e1",
   "metadata": {},
   "source": [
    "#### Observations\n",
    " - Add 5 points\n",
    "1. A DataFrame is created from a list of dictionaries, with each dictionary representing a row and keys as column labels.\n",
    "2. Pandas automatically fills missing data with NaN where applicable.\n",
    "3. Columns are aligned based on their keys, and missing keys are filled with NaN.\n",
    "4. The DataFrame is of type pandas.core.frame.DataFrame, which can handle both numeric and string data.\n",
    "5. The DataFrame structure enables easy data manipulation, including row and column access."
   ]
  },
  {
   "cell_type": "code",
   "execution_count": 23,
   "id": "9f4bbd23-d89a-4f56-a65a-f03ebfa3a567",
   "metadata": {
    "scrolled": true
   },
   "outputs": [
    {
     "data": {
      "text/plain": [
       "array([[    45,  85000],\n",
       "       [    24,  45000],\n",
       "       [    78, 102000],\n",
       "       [    19,  24000],\n",
       "       [    58, 120000]])"
      ]
     },
     "execution_count": 23,
     "metadata": {},
     "output_type": "execute_result"
    }
   ],
   "source": [
    "# 2. creating a df using numpy arrays\n",
    "array = np.array([[45,85000], [24,45000], [78,102000], [19,24000], [58,120000]])\n",
    "array\n"
   ]
  },
  {
   "cell_type": "code",
   "execution_count": 24,
   "id": "f58f7970-e276-43a5-9f52-db983068f730",
   "metadata": {},
   "outputs": [
    {
     "data": {
      "text/html": [
       "<div>\n",
       "<style scoped>\n",
       "    .dataframe tbody tr th:only-of-type {\n",
       "        vertical-align: middle;\n",
       "    }\n",
       "\n",
       "    .dataframe tbody tr th {\n",
       "        vertical-align: top;\n",
       "    }\n",
       "\n",
       "    .dataframe thead th {\n",
       "        text-align: right;\n",
       "    }\n",
       "</style>\n",
       "<table border=\"1\" class=\"dataframe\">\n",
       "  <thead>\n",
       "    <tr style=\"text-align: right;\">\n",
       "      <th></th>\n",
       "      <th>Age</th>\n",
       "      <th>Income</th>\n",
       "    </tr>\n",
       "  </thead>\n",
       "  <tbody>\n",
       "    <tr>\n",
       "      <th>Sam</th>\n",
       "      <td>45</td>\n",
       "      <td>85000</td>\n",
       "    </tr>\n",
       "    <tr>\n",
       "      <th>Mike</th>\n",
       "      <td>24</td>\n",
       "      <td>45000</td>\n",
       "    </tr>\n",
       "    <tr>\n",
       "      <th>Lily</th>\n",
       "      <td>78</td>\n",
       "      <td>102000</td>\n",
       "    </tr>\n",
       "    <tr>\n",
       "      <th>Sarah</th>\n",
       "      <td>19</td>\n",
       "      <td>24000</td>\n",
       "    </tr>\n",
       "    <tr>\n",
       "      <th>Degbo</th>\n",
       "      <td>58</td>\n",
       "      <td>120000</td>\n",
       "    </tr>\n",
       "  </tbody>\n",
       "</table>\n",
       "</div>"
      ],
      "text/plain": [
       "       Age  Income\n",
       "Sam     45   85000\n",
       "Mike    24   45000\n",
       "Lily    78  102000\n",
       "Sarah   19   24000\n",
       "Degbo   58  120000"
      ]
     },
     "execution_count": 24,
     "metadata": {},
     "output_type": "execute_result"
    }
   ],
   "source": [
    "# let's convert df_array into a pandas **IN FINAL EXAM**\n",
    "df_2 = pd.DataFrame(array, columns=['Age', 'Income'], \n",
    "                       index=['Sam', 'Mike', 'Lily', 'Sarah', 'Degbo'])\n",
    "df_2"
   ]
  },
  {
   "cell_type": "markdown",
   "id": "f106fafa-6122-4381-aa65-a57de17b50fd",
   "metadata": {},
   "source": [
    "#### Observations\n",
    " - Add 5 points"
   ]
  },
  {
   "cell_type": "markdown",
   "id": "8e4ca3ca-98c3-444f-830f-814c16972bd1",
   "metadata": {},
   "source": [
    "### Data Attributes: Add the information hat each attribute provides: \n",
    "- Data attributes provide more information about the dataset. Some of them are as\n",
    "follows: df_2:\n",
    "- shape: (5, 2)\n",
    "- ndim: 2\n",
    "- size: 10\n",
    "- dtypes: Object\n",
    "- columns: 'Age', 'Income'\n",
    "- index: 'Sam', 'Mike', 'Lily', 'Sarah', 'Degbo'"
   ]
  },
  {
   "cell_type": "code",
   "execution_count": 27,
   "id": "9d10b817-56b1-400b-8775-aa14bc248a47",
   "metadata": {},
   "outputs": [
    {
     "data": {
      "text/plain": [
       "(5, 2)"
      ]
     },
     "execution_count": 27,
     "metadata": {},
     "output_type": "execute_result"
    }
   ],
   "source": [
    "#shape\n",
    "df_2.shape"
   ]
  },
  {
   "cell_type": "code",
   "execution_count": 28,
   "id": "7298328f-f5e0-46f5-8b26-1e209835d2b7",
   "metadata": {},
   "outputs": [
    {
     "data": {
      "text/plain": [
       "2"
      ]
     },
     "execution_count": 28,
     "metadata": {},
     "output_type": "execute_result"
    }
   ],
   "source": [
    "# ndim\n",
    "df_2.ndim"
   ]
  },
  {
   "cell_type": "code",
   "execution_count": null,
   "id": "3d04e6c7-64a2-4250-8e84-c4fb69ca6a1d",
   "metadata": {},
   "outputs": [],
   "source": [
    "# size\n",
    "df_2.size"
   ]
  },
  {
   "cell_type": "code",
   "execution_count": null,
   "id": "4bcac171-4ea0-40e6-8ce6-e45c2270a2b1",
   "metadata": {},
   "outputs": [],
   "source": [
    "# dtypes\n",
    "df_2.dtypes"
   ]
  },
  {
   "cell_type": "code",
   "execution_count": null,
   "id": "e2ba2ca7-50b9-4860-940b-9c6a0f0163e7",
   "metadata": {},
   "outputs": [],
   "source": [
    "# columns\n",
    "df_2.columns"
   ]
  },
  {
   "cell_type": "code",
   "execution_count": null,
   "id": "c80dca05-a944-41e9-b921-8c58e56700e7",
   "metadata": {},
   "outputs": [],
   "source": [
    "# index\n",
    "df_2.index"
   ]
  },
  {
   "cell_type": "code",
   "execution_count": null,
   "id": "03c1f695-07ba-4dc2-ad3f-ba4e6ee11425",
   "metadata": {},
   "outputs": [],
   "source": [
    "# let's load the movies dataset\n",
    "df = pd.read_csv('movies.csv')"
   ]
  },
  {
   "cell_type": "code",
   "execution_count": null,
   "id": "6f2787d9-a3a8-490a-be35-564ed20cb8a7",
   "metadata": {},
   "outputs": [],
   "source": [
    "# making sure the dataset has been loaded\n",
    "df.head(8)"
   ]
  },
  {
   "cell_type": "code",
   "execution_count": null,
   "id": "5864a088-a94b-4e1a-b459-176ae8486422",
   "metadata": {},
   "outputs": [],
   "source": [
    "df.tail()"
   ]
  },
  {
   "cell_type": "markdown",
   "id": "16bf25c4-0792-4cf2-b1a7-efbf1eb38966",
   "metadata": {},
   "source": [
    "### Conclusion\n",
    "- ADD 15 points here\n",
    "1. Pandas is a powerful library for data manipulation in Python, especially for structured data like tabular datasets.\n",
    "2. DataFrames can be created from various data sources such as dictionaries, lists, and CSV files.\n",
    "3. Each DataFrame has an index to uniquely identify rows and facilitate efficient data access.\n",
    "4. Missing data is represented as NaN, making it easy to identify and handle gaps in data.\n",
    "5. Pandas can read data from different file formats, including CSV, Excel, and SQL databases.\n",
    "6. DataFrames support various data types, such as integers, floats, and strings, within a single structure.\n",
    "7. Data selection is easy with indexing, allowing users to filter and retrieve specific data subsets.\n",
    "8. Missing values can be handled using methods like .fillna() or .dropna() to clean the data.\n",
    "9. Data can be transformed using functions like .apply(), .map(), and .transform() for customization.\n",
    "10. Pandas supports aggregation and grouping for generating summary statistics like sums and averages.\n",
    "11. DataFrames can be merged using the .merge() function, allowing for combining multiple datasets.\n",
    "12. Pandas handles large datasets efficiently with optimized performance through vectorized operations.\n",
    "13. It integrates with Matplotlib for plotting and visualizing data directly from DataFrames.\n",
    "14. Columns are aligned based on their keys, and missing keys are filled with NaN.\n",
    "15. Methods like .head() and .tail() allow users to quickly preview the first and last rows of a dataset."
   ]
  },
  {
   "cell_type": "markdown",
   "id": "6f33efb0-86f2-4340-bf34-5450ef9185ca",
   "metadata": {},
   "source": [
    "##### End of Lab 05 "
   ]
  },
  {
   "cell_type": "code",
   "execution_count": null,
   "id": "fa8fd6e2-fe06-4150-91d2-025a2dbac9a6",
   "metadata": {},
   "outputs": [],
   "source": []
  }
 ],
 "metadata": {
  "kernelspec": {
   "display_name": "Python [conda env:base] *",
   "language": "python",
   "name": "conda-base-py"
  },
  "language_info": {
   "codemirror_mode": {
    "name": "ipython",
    "version": 3
   },
   "file_extension": ".py",
   "mimetype": "text/x-python",
   "name": "python",
   "nbconvert_exporter": "python",
   "pygments_lexer": "ipython3",
   "version": "3.12.7"
  }
 },
 "nbformat": 4,
 "nbformat_minor": 5
}
