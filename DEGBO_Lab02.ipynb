{
 "cells": [
  {
   "cell_type": "markdown",
   "id": "bd7231ac-8053-4c6f-abcc-64165684bf91",
   "metadata": {},
   "source": [
    "# Lab 02 - Data Structures - Florentin Degbo"
   ]
  },
  {
   "cell_type": "markdown",
   "id": "0ff26d9a-8d80-4b54-a4a2-3d49a9396a70",
   "metadata": {},
   "source": [
    "### Data Structures in Python: \n",
    "\n",
    "1. Lists: They are ordered, accept duplicates, mutable,\n",
    "2. Tuples: They are ordered, accept duplicates, immutable,\n",
    "3. Sets: They are unordered, don't accept duplicates, immutable (except for add and remove elements),\n",
    "4. Dictionaries: They are unordered, don't accept duplicates, mutable, and the elements of a dictionary are in pairs of key/value.\n",
    "\n",
    "**What is ordered? An ordered element has a fixed position; therefore; we can index (accessing a single element) an element in an ordered data structure.**\n",
    "\n",
    "**What is duplicates? When the same values have different positions.**\n",
    "\n",
    "**What is mutable? To be able to modify or change the value of an element in a data structure.**"
   ]
  },
  {
   "cell_type": "markdown",
   "id": "88f1df4b-b2e9-4f4b-9ebd-ab41cd6853c6",
   "metadata": {},
   "source": [
    "### 1. Lists"
   ]
  },
  {
   "cell_type": "code",
   "execution_count": 4,
   "id": "6a5d75bd-fd9b-4e13-93be-2414504db123",
   "metadata": {},
   "outputs": [
    {
     "data": {
      "text/plain": [
       "[1, 2, 'Degbo', 3.14, True, 2]"
      ]
     },
     "execution_count": 4,
     "metadata": {},
     "output_type": "execute_result"
    }
   ],
   "source": [
    "L = [1, 2, 'Degbo', 3.14, True, 2]\n",
    "L"
   ]
  },
  {
   "cell_type": "code",
   "execution_count": 5,
   "id": "1c0b6f69-47bf-421a-9191-00855dddc113",
   "metadata": {},
   "outputs": [
    {
     "data": {
      "text/plain": [
       "list"
      ]
     },
     "execution_count": 5,
     "metadata": {},
     "output_type": "execute_result"
    }
   ],
   "source": [
    "type(L)"
   ]
  },
  {
   "cell_type": "markdown",
   "id": "14499889-9261-41a8-9077-0dc6953dd03c",
   "metadata": {},
   "source": [
    "#### Indexing and Slicing\n",
    "1. Indexing: Accessing a single element\n",
    "2. Slicing: Accessing a range of elements"
   ]
  },
  {
   "cell_type": "code",
   "execution_count": 7,
   "id": "fe17cd42-1e2a-4d50-92a5-8f8c8bd97611",
   "metadata": {},
   "outputs": [
    {
     "data": {
      "text/plain": [
       "'Degbo'"
      ]
     },
     "execution_count": 7,
     "metadata": {},
     "output_type": "execute_result"
    }
   ],
   "source": [
    "# let's index L and display 'Degbo'\n",
    "L[2]"
   ]
  },
  {
   "cell_type": "code",
   "execution_count": 8,
   "id": "114bd397-72ed-4b67-9a8e-b88781ade7e9",
   "metadata": {},
   "outputs": [
    {
     "data": {
      "text/plain": [
       "True"
      ]
     },
     "execution_count": 8,
     "metadata": {},
     "output_type": "execute_result"
    }
   ],
   "source": [
    "L[-2]"
   ]
  },
  {
   "cell_type": "code",
   "execution_count": 9,
   "id": "5dc1a86f-4a7b-4bc3-bd38-dc7ce549486e",
   "metadata": {},
   "outputs": [
    {
     "data": {
      "text/plain": [
       "[2, 'Degbo', 3.14]"
      ]
     },
     "execution_count": 9,
     "metadata": {},
     "output_type": "execute_result"
    }
   ],
   "source": [
    "# slicing the range of 2, \"Degbo\", 3.14 in L\n",
    "L[1:4]"
   ]
  },
  {
   "cell_type": "code",
   "execution_count": 10,
   "id": "8c29e416-a772-4c3f-95e6-9a5d084f311d",
   "metadata": {},
   "outputs": [
    {
     "data": {
      "text/plain": [
       "[1, 2, 'Degbo', 3.14, True, 2]"
      ]
     },
     "execution_count": 10,
     "metadata": {},
     "output_type": "execute_result"
    }
   ],
   "source": [
    "# to access all the elements\n",
    "L[::]"
   ]
  },
  {
   "cell_type": "code",
   "execution_count": 11,
   "id": "74dc42ca-fc5e-4ce9-b578-d69e02c83147",
   "metadata": {},
   "outputs": [
    {
     "data": {
      "text/plain": [
       "[2, True, 3.14, 'Degbo', 2, 1]"
      ]
     },
     "execution_count": 11,
     "metadata": {},
     "output_type": "execute_result"
    }
   ],
   "source": [
    "# reverse the order of the elements\n",
    "L[::-1]"
   ]
  },
  {
   "cell_type": "code",
   "execution_count": 12,
   "id": "e626c2b9-14ce-464f-9c20-124c8e661ada",
   "metadata": {},
   "outputs": [
    {
     "data": {
      "text/plain": [
       "[1, 2, 'Degbo', 3.14, True, 2, 50]"
      ]
     },
     "execution_count": 12,
     "metadata": {},
     "output_type": "execute_result"
    }
   ],
   "source": [
    "# adding an element: append() method adds an element at the end of a list\n",
    "L.append(50)\n",
    "L"
   ]
  },
  {
   "cell_type": "code",
   "execution_count": 13,
   "id": "627637b7-4608-44fe-8183-05393d25a614",
   "metadata": {},
   "outputs": [
    {
     "data": {
      "text/plain": [
       "[1, 2, 'Degbo', 3.14, True, 2]"
      ]
     },
     "execution_count": 13,
     "metadata": {},
     "output_type": "execute_result"
    }
   ],
   "source": [
    "# deleting elements from a list\n",
    "# remove() method deletes elements by their values not positions\n",
    "L.remove(50)\n",
    "L"
   ]
  },
  {
   "cell_type": "code",
   "execution_count": 14,
   "id": "4ed94446-62df-4891-b942-2165a285f807",
   "metadata": {},
   "outputs": [],
   "source": [
    "L2 = L.copy()"
   ]
  },
  {
   "cell_type": "code",
   "execution_count": 15,
   "id": "9c5b8581-82aa-4423-aa5c-2fb3bf3ad8fc",
   "metadata": {},
   "outputs": [
    {
     "data": {
      "text/plain": [
       "[]"
      ]
     },
     "execution_count": 15,
     "metadata": {},
     "output_type": "execute_result"
    }
   ],
   "source": [
    "# making an empty list\n",
    "L2.clear()\n",
    "L2"
   ]
  },
  {
   "cell_type": "code",
   "execution_count": 16,
   "id": "f15e4fd8-7958-443d-a3f5-31d4896b199b",
   "metadata": {},
   "outputs": [
    {
     "data": {
      "text/plain": [
       "[1, 2, 'Degbo', False, True, 2]"
      ]
     },
     "execution_count": 16,
     "metadata": {},
     "output_type": "execute_result"
    }
   ],
   "source": [
    "L[3] = False\n",
    "L"
   ]
  },
  {
   "cell_type": "markdown",
   "id": "c993a2e2-3871-4ea0-909a-3610a79e2826",
   "metadata": {},
   "source": [
    "### Tuples"
   ]
  },
  {
   "cell_type": "code",
   "execution_count": 18,
   "id": "6a99590d-5741-433c-bb60-39b4dbd8edcb",
   "metadata": {},
   "outputs": [
    {
     "data": {
      "text/plain": [
       "(1, 2, 'Degbo', 3.14, True, 2)"
      ]
     },
     "execution_count": 18,
     "metadata": {},
     "output_type": "execute_result"
    }
   ],
   "source": [
    "T = (1, 2, 'Degbo', 3.14, True, 2)\n",
    "T"
   ]
  },
  {
   "cell_type": "code",
   "execution_count": 19,
   "id": "bd9620e9-2b9d-421a-9999-fc31d2dabacc",
   "metadata": {},
   "outputs": [
    {
     "data": {
      "text/plain": [
       "True"
      ]
     },
     "execution_count": 19,
     "metadata": {},
     "output_type": "execute_result"
    }
   ],
   "source": [
    "T[4]"
   ]
  },
  {
   "cell_type": "code",
   "execution_count": 20,
   "id": "6ad087df-6602-4c65-bc38-5b661243ab19",
   "metadata": {},
   "outputs": [],
   "source": [
    "# let's try to change the value of 3.14 in T\n",
    "\n",
    "#TypeError: 'tuple' object does not support item re-assignment\n",
    "#T[3] = 'Python'"
   ]
  },
  {
   "cell_type": "code",
   "execution_count": 21,
   "id": "e5348f0a-4cae-46d1-aa21-f454b4dc408a",
   "metadata": {},
   "outputs": [],
   "source": [
    "# AttributeError: 'tuple' object has no attribute 'append'\n",
    "#T.append(9)"
   ]
  },
  {
   "cell_type": "markdown",
   "id": "bfce9e20-d1b2-4b19-885f-c456740bdfec",
   "metadata": {},
   "source": [
    "### 3. Sets"
   ]
  },
  {
   "cell_type": "code",
   "execution_count": 23,
   "id": "05dbd9b6-79b7-4d19-9628-7cff449e3127",
   "metadata": {},
   "outputs": [
    {
     "data": {
      "text/plain": [
       "{1, 2, 3.14, 'Degbo', False}"
      ]
     },
     "execution_count": 23,
     "metadata": {},
     "output_type": "execute_result"
    }
   ],
   "source": [
    "S = {1, 2, 'Degbo', 3.14, False, 2, 0}\n",
    "S"
   ]
  },
  {
   "cell_type": "code",
   "execution_count": 24,
   "id": "f3bdb173-aa5f-4bb9-9e8f-e519c160f6fe",
   "metadata": {},
   "outputs": [],
   "source": [
    "# let's change the value of 2 in S\n",
    "#TypeError: 'set' object does not support item assignment\n",
    "#S[2] = 'Al'"
   ]
  },
  {
   "cell_type": "code",
   "execution_count": 25,
   "id": "cb6b0803-c79d-47cf-93ea-fd39bc502dec",
   "metadata": {},
   "outputs": [
    {
     "data": {
      "text/plain": [
       "{1, 2, 3.14, 'Degbo'}"
      ]
     },
     "execution_count": 25,
     "metadata": {},
     "output_type": "execute_result"
    }
   ],
   "source": [
    "# let's delete False from S\n",
    "S.remove(False)\n",
    "S"
   ]
  },
  {
   "cell_type": "code",
   "execution_count": 26,
   "id": "734a6317-756c-4e31-829a-dfbeafca5fbb",
   "metadata": {},
   "outputs": [],
   "source": [
    "# lt's add an element to S\n",
    "S.add('HCC')"
   ]
  },
  {
   "cell_type": "markdown",
   "id": "bb646092-3507-4a3d-a758-14cc8614a8b1",
   "metadata": {},
   "source": [
    "### 4. Dictionaries"
   ]
  },
  {
   "cell_type": "code",
   "execution_count": 28,
   "id": "27bc9dc3-517e-4e18-b9d7-07447e88f892",
   "metadata": {},
   "outputs": [
    {
     "data": {
      "text/plain": [
       "{1: 'a', 'B': 2, 5: 3.14, 'school': 'HCC', 'Degbo': True}"
      ]
     },
     "execution_count": 28,
     "metadata": {},
     "output_type": "execute_result"
    }
   ],
   "source": [
    "D = {1:'a', 'B':2, 5:3.14, 'school':'HCC', 'Degbo':True}\n",
    "D"
   ]
  },
  {
   "cell_type": "code",
   "execution_count": 29,
   "id": "3d5f65c2-2151-45c7-84fb-4ce37274c994",
   "metadata": {},
   "outputs": [
    {
     "data": {
      "text/plain": [
       "'HCC'"
      ]
     },
     "execution_count": 29,
     "metadata": {},
     "output_type": "execute_result"
    }
   ],
   "source": [
    "# we can access a value by its key\n",
    "D['school']"
   ]
  },
  {
   "cell_type": "code",
   "execution_count": 30,
   "id": "14966601-3db3-420c-be55-17ea09ca740a",
   "metadata": {},
   "outputs": [
    {
     "data": {
      "text/plain": [
       "{1: 'a', 'B': 2, 5: 'float', 'school': 'HCC', 'Degbo': True}"
      ]
     },
     "execution_count": 30,
     "metadata": {},
     "output_type": "execute_result"
    }
   ],
   "source": [
    "D[5] = 'float'\n",
    "D"
   ]
  },
  {
   "cell_type": "code",
   "execution_count": 31,
   "id": "1d4b6ad9-914e-429c-a4a9-1d4fa113c280",
   "metadata": {},
   "outputs": [],
   "source": [
    "#AttributeError: 'dict' object has no attribute 'add'\n",
    "#D.add('key:value')"
   ]
  },
  {
   "cell_type": "code",
   "execution_count": 32,
   "id": "46d49495-a5cf-42ce-9735-45229890f6f1",
   "metadata": {},
   "outputs": [
    {
     "data": {
      "text/plain": [
       "{1: 'a',\n",
       " 'B': 2,\n",
       " 5: 'float',\n",
       " 'school': 'HCC',\n",
       " 'Degbo': True,\n",
       " 'newkey': 'newvalue'}"
      ]
     },
     "execution_count": 32,
     "metadata": {},
     "output_type": "execute_result"
    }
   ],
   "source": [
    "# adding one pair to D\n",
    "D['newkey'] = 'newvalue'\n",
    "D"
   ]
  },
  {
   "cell_type": "code",
   "execution_count": 33,
   "id": "5b386041-e98a-4296-b721-10d43474ab9b",
   "metadata": {},
   "outputs": [],
   "source": [
    "# adding more than one pair to D using the update() method\n",
    "D.update({'cat':9,'summer':'hot','TX':'Austin'})"
   ]
  },
  {
   "cell_type": "code",
   "execution_count": 34,
   "id": "cc1232cd-5a47-4e3c-b8d1-6471542579f0",
   "metadata": {},
   "outputs": [
    {
     "data": {
      "text/plain": [
       "{1: 'a',\n",
       " 'B': 2,\n",
       " 5: 'float',\n",
       " 'school': 'HCC',\n",
       " 'Degbo': True,\n",
       " 'newkey': 'newvalue',\n",
       " 'summer': 'hot',\n",
       " 'TX': 'Austin'}"
      ]
     },
     "execution_count": 34,
     "metadata": {},
     "output_type": "execute_result"
    }
   ],
   "source": [
    "D.pop('cat')\n",
    "D"
   ]
  },
  {
   "cell_type": "code",
   "execution_count": 35,
   "id": "7e26bfc1-8177-4202-9136-9f0cb704ab92",
   "metadata": {},
   "outputs": [
    {
     "data": {
      "text/plain": [
       "{1: 'a',\n",
       " 5: 'float',\n",
       " 'school': 'HCC',\n",
       " 'Degbo': True,\n",
       " 'newkey': 'newvalue',\n",
       " 'summer': 'hot',\n",
       " 'TX': 'Austin'}"
      ]
     },
     "execution_count": 35,
     "metadata": {},
     "output_type": "execute_result"
    }
   ],
   "source": [
    "# another way to delete a pair in a dict is using del keyword\n",
    "del D['B']\n",
    "D"
   ]
  },
  {
   "cell_type": "code",
   "execution_count": 36,
   "id": "711d5abe-2ff5-4ae1-87eb-67784e28b941",
   "metadata": {},
   "outputs": [
    {
     "data": {
      "text/plain": [
       "dict_keys([1, 5, 'school', 'Degbo', 'newkey', 'summer', 'TX'])"
      ]
     },
     "execution_count": 36,
     "metadata": {},
     "output_type": "execute_result"
    }
   ],
   "source": [
    "D.keys()"
   ]
  },
  {
   "cell_type": "code",
   "execution_count": 37,
   "id": "be8fc49f-0645-43c5-abf6-954d00eaaac0",
   "metadata": {},
   "outputs": [
    {
     "data": {
      "text/plain": [
       "dict_values(['a', 'float', 'HCC', True, 'newvalue', 'hot', 'Austin'])"
      ]
     },
     "execution_count": 37,
     "metadata": {},
     "output_type": "execute_result"
    }
   ],
   "source": [
    "D.values()"
   ]
  },
  {
   "cell_type": "code",
   "execution_count": 38,
   "id": "e43151ca-4338-4bdd-9616-92d2f9859bbb",
   "metadata": {},
   "outputs": [],
   "source": [
    "# we cannot assign a mutable object as a key\n",
    "#immutable_key = {1: 'a',5: 'float',[1,2,3,4,5]: 'HCC'}"
   ]
  },
  {
   "cell_type": "code",
   "execution_count": 39,
   "id": "90ed3c19-caf0-4384-a16c-340abd7bc6d3",
   "metadata": {},
   "outputs": [
    {
     "data": {
      "text/plain": [
       "{1: 'a', 5: 'float', (1, 2, 3, 4, 5): 'HCC'}"
      ]
     },
     "execution_count": 39,
     "metadata": {},
     "output_type": "execute_result"
    }
   ],
   "source": [
    "immutable_key_tuple = {1: 'a', 5: 'float',(1,2,3,4,5): 'HCC'}\n",
    "immutable_key_tuple"
   ]
  },
  {
   "cell_type": "markdown",
   "id": "b7457da6-06d4-4b1e-a10b-3da9424ca31e",
   "metadata": {},
   "source": [
    "**Observation**\n",
    "\n",
    "1. We cannot assign a list as a key since a list is muttable, \n",
    "2. Whereas, we can use a tuple as a key in a dictionary since the tuple is immutable."
   ]
  },
  {
   "cell_type": "markdown",
   "id": "c1823e25-27c8-4a5c-9e09-f577de1ae783",
   "metadata": {},
   "source": [
    "### Conclusion\n",
    "-Add 10 points here on what you learned from completing this lab\n",
    "1. Indexing is accessing a single element.\n",
    "2. Slicing is accessing a range of elements.\n",
    "3. List, Tuple, and sets are single elements.\n",
    "4. Dictionary values are separated using \":\"\n",
    "5. Muatable means can be changed.\n",
    "6. Immutable means can not be changed.\n",
    "7. In a set you can add and remove.\n",
    "8. Sets and dictionary have no duplicate.\n",
    "9. Sets and dictionary are unordered.\n",
    "10. Duplicates are when the same values have different positions."
   ]
  },
  {
   "cell_type": "markdown",
   "id": "be2c49fe-2669-4b2b-99e0-1ac7198e9dd7",
   "metadata": {},
   "source": [
    "### End of Lab 02."
   ]
  },
  {
   "cell_type": "code",
   "execution_count": null,
   "id": "aa7a9ea9-a5d4-4b81-9411-66cd51419312",
   "metadata": {},
   "outputs": [],
   "source": []
  }
 ],
 "metadata": {
  "kernelspec": {
   "display_name": "Python [conda env:base] *",
   "language": "python",
   "name": "conda-base-py"
  },
  "language_info": {
   "codemirror_mode": {
    "name": "ipython",
    "version": 3
   },
   "file_extension": ".py",
   "mimetype": "text/x-python",
   "name": "python",
   "nbconvert_exporter": "python",
   "pygments_lexer": "ipython3",
   "version": "3.12.7"
  }
 },
 "nbformat": 4,
 "nbformat_minor": 5
}
