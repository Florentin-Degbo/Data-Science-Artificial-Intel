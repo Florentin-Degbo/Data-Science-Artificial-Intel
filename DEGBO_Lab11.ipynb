{
 "cells": [
  {
   "cell_type": "markdown",
   "id": "7dd4be49-1497-46cc-8b91-d1b94b7631b2",
   "metadata": {},
   "source": [
    "# Lab 11 - Skewness and Correlation - Florentin Degbo"
   ]
  },
  {
   "cell_type": "markdown",
   "id": "85f1ff0a-1b2b-4cba-9951-ac2eafd0e611",
   "metadata": {},
   "source": [
    "### Introduction\n",
    "1. Context:\n",
    "2. Objectives:\n",
    "3. Data description: a short description about the name of each columns\n",
    "   - Distance: distance of the house from the central business district\n",
    "   - SellerG: \n",
    "   - Type:\n",
    "   - Method: the method of sale\n",
    "   - Propertycount: "
   ]
  },
  {
   "cell_type": "markdown",
   "id": "136b679f-83ba-4469-8343-1129a66c5dab",
   "metadata": {},
   "source": [
    "### Importing Libraires"
   ]
  },
  {
   "cell_type": "code",
   "execution_count": 4,
   "id": "1fa8b9da-bd2b-497a-9c94-132998ca57dc",
   "metadata": {},
   "outputs": [],
   "source": [
    "# general librairies\n",
    "import numpy as np\n",
    "import pandas as pd\n",
    "import math\n",
    "\n",
    "# data vizualization\n",
    "import matplotlib.pyplot as plt\n",
    "import seaborn as sns\n",
    "from PIL import Image\n",
    "\n",
    "# suppressing warnings\n",
    "import warnings\n",
    "warnings.filterwarnings('ignore')"
   ]
  },
  {
   "cell_type": "markdown",
   "id": "0c097a33-32af-4ad6-b39f-82cc16f2a9cf",
   "metadata": {},
   "source": [
    "### Loading Dataset"
   ]
  },
  {
   "cell_type": "code",
   "execution_count": 6,
   "id": "de06da1f-735e-4819-85d4-666aa980576c",
   "metadata": {},
   "outputs": [],
   "source": [
    "df = pd.read_csv('housing.csv')"
   ]
  },
  {
   "cell_type": "code",
   "execution_count": 7,
   "id": "125531d4-7e8c-476f-a3b2-5aba22df666d",
   "metadata": {},
   "outputs": [],
   "source": [
    "housing = df.copy()"
   ]
  },
  {
   "cell_type": "code",
   "execution_count": 8,
   "id": "e41d9a95-bfe0-4694-8333-6e3417cb6afa",
   "metadata": {},
   "outputs": [
    {
     "data": {
      "text/html": [
       "<div>\n",
       "<style scoped>\n",
       "    .dataframe tbody tr th:only-of-type {\n",
       "        vertical-align: middle;\n",
       "    }\n",
       "\n",
       "    .dataframe tbody tr th {\n",
       "        vertical-align: top;\n",
       "    }\n",
       "\n",
       "    .dataframe thead th {\n",
       "        text-align: right;\n",
       "    }\n",
       "</style>\n",
       "<table border=\"1\" class=\"dataframe\">\n",
       "  <thead>\n",
       "    <tr style=\"text-align: right;\">\n",
       "      <th></th>\n",
       "      <th>0</th>\n",
       "      <th>1</th>\n",
       "      <th>2</th>\n",
       "      <th>3</th>\n",
       "      <th>4</th>\n",
       "    </tr>\n",
       "  </thead>\n",
       "  <tbody>\n",
       "    <tr>\n",
       "      <th>Suburb</th>\n",
       "      <td>Abbotsford</td>\n",
       "      <td>Airport West</td>\n",
       "      <td>Albert Park</td>\n",
       "      <td>Albert Park</td>\n",
       "      <td>Alphington</td>\n",
       "    </tr>\n",
       "    <tr>\n",
       "      <th>Address</th>\n",
       "      <td>68 Studley St</td>\n",
       "      <td>154 Halsey Rd</td>\n",
       "      <td>105 Kerferd Rd</td>\n",
       "      <td>85 Richardson St</td>\n",
       "      <td>30 Austin St</td>\n",
       "    </tr>\n",
       "    <tr>\n",
       "      <th>Rooms</th>\n",
       "      <td>2</td>\n",
       "      <td>3</td>\n",
       "      <td>2</td>\n",
       "      <td>2</td>\n",
       "      <td>3</td>\n",
       "    </tr>\n",
       "    <tr>\n",
       "      <th>Type</th>\n",
       "      <td>h</td>\n",
       "      <td>t</td>\n",
       "      <td>h</td>\n",
       "      <td>h</td>\n",
       "      <td>h</td>\n",
       "    </tr>\n",
       "    <tr>\n",
       "      <th>Method</th>\n",
       "      <td>SS</td>\n",
       "      <td>PI</td>\n",
       "      <td>S</td>\n",
       "      <td>S</td>\n",
       "      <td>SN</td>\n",
       "    </tr>\n",
       "    <tr>\n",
       "      <th>SellerG</th>\n",
       "      <td>Jellis</td>\n",
       "      <td>Nelson</td>\n",
       "      <td>hockingstuart</td>\n",
       "      <td>Thomson</td>\n",
       "      <td>McGrath</td>\n",
       "    </tr>\n",
       "    <tr>\n",
       "      <th>Date</th>\n",
       "      <td>3/9/2016</td>\n",
       "      <td>3/9/2016</td>\n",
       "      <td>3/9/2016</td>\n",
       "      <td>3/9/2016</td>\n",
       "      <td>3/9/2016</td>\n",
       "    </tr>\n",
       "    <tr>\n",
       "      <th>Distance</th>\n",
       "      <td>2.5</td>\n",
       "      <td>13.5</td>\n",
       "      <td>3.3</td>\n",
       "      <td>3.3</td>\n",
       "      <td>6.4</td>\n",
       "    </tr>\n",
       "    <tr>\n",
       "      <th>Postcode</th>\n",
       "      <td>3067.0</td>\n",
       "      <td>3042.0</td>\n",
       "      <td>3206.0</td>\n",
       "      <td>3206.0</td>\n",
       "      <td>3078.0</td>\n",
       "    </tr>\n",
       "    <tr>\n",
       "      <th>Bedroom</th>\n",
       "      <td>2.0</td>\n",
       "      <td>3.0</td>\n",
       "      <td>2.0</td>\n",
       "      <td>2.0</td>\n",
       "      <td>3.0</td>\n",
       "    </tr>\n",
       "    <tr>\n",
       "      <th>Bathroom</th>\n",
       "      <td>1.0</td>\n",
       "      <td>2.0</td>\n",
       "      <td>1.0</td>\n",
       "      <td>1.0</td>\n",
       "      <td>2.0</td>\n",
       "    </tr>\n",
       "    <tr>\n",
       "      <th>Car</th>\n",
       "      <td>1.0</td>\n",
       "      <td>1.0</td>\n",
       "      <td>0.0</td>\n",
       "      <td>0.0</td>\n",
       "      <td>1.0</td>\n",
       "    </tr>\n",
       "    <tr>\n",
       "      <th>Landsize</th>\n",
       "      <td>126.0</td>\n",
       "      <td>303.0</td>\n",
       "      <td>120.0</td>\n",
       "      <td>159.0</td>\n",
       "      <td>174.0</td>\n",
       "    </tr>\n",
       "    <tr>\n",
       "      <th>BuildingArea</th>\n",
       "      <td>inf</td>\n",
       "      <td>225</td>\n",
       "      <td>82</td>\n",
       "      <td>inf</td>\n",
       "      <td>122</td>\n",
       "    </tr>\n",
       "    <tr>\n",
       "      <th>YearBuilt</th>\n",
       "      <td>NaN</td>\n",
       "      <td>2016.0</td>\n",
       "      <td>1900.0</td>\n",
       "      <td>NaN</td>\n",
       "      <td>2003.0</td>\n",
       "    </tr>\n",
       "    <tr>\n",
       "      <th>CouncilArea</th>\n",
       "      <td>Yarra City Council</td>\n",
       "      <td>Moonee Valley City Council</td>\n",
       "      <td>Port Phillip City Council</td>\n",
       "      <td>Port Phillip City Council</td>\n",
       "      <td>Darebin City Council</td>\n",
       "    </tr>\n",
       "    <tr>\n",
       "      <th>Latitude</th>\n",
       "      <td>-37.8014</td>\n",
       "      <td>-37.718</td>\n",
       "      <td>-37.8459</td>\n",
       "      <td>-37.845</td>\n",
       "      <td>-37.7818</td>\n",
       "    </tr>\n",
       "    <tr>\n",
       "      <th>Longtitude</th>\n",
       "      <td>144.9958</td>\n",
       "      <td>144.878</td>\n",
       "      <td>144.9555</td>\n",
       "      <td>144.9538</td>\n",
       "      <td>145.0198</td>\n",
       "    </tr>\n",
       "    <tr>\n",
       "      <th>Regionname</th>\n",
       "      <td>Northern Metropolitan</td>\n",
       "      <td>Western Metropolitan</td>\n",
       "      <td>Southern Metropolitan</td>\n",
       "      <td>Southern Metropolitan</td>\n",
       "      <td>Northern Metropolitan</td>\n",
       "    </tr>\n",
       "    <tr>\n",
       "      <th>Propertycount</th>\n",
       "      <td>4019.0</td>\n",
       "      <td>3464.0</td>\n",
       "      <td>3280.0</td>\n",
       "      <td>3280.0</td>\n",
       "      <td>2211.0</td>\n",
       "    </tr>\n",
       "    <tr>\n",
       "      <th>ParkingArea</th>\n",
       "      <td>Carport</td>\n",
       "      <td>Detached Garage</td>\n",
       "      <td>Attached Garage</td>\n",
       "      <td>Indoor</td>\n",
       "      <td>Parkade</td>\n",
       "    </tr>\n",
       "    <tr>\n",
       "      <th>Price</th>\n",
       "      <td>NaN</td>\n",
       "      <td>840000.0</td>\n",
       "      <td>1275000.0</td>\n",
       "      <td>1455000.0</td>\n",
       "      <td>NaN</td>\n",
       "    </tr>\n",
       "  </tbody>\n",
       "</table>\n",
       "</div>"
      ],
      "text/plain": [
       "                                   0                           1  \\\n",
       "Suburb                    Abbotsford                Airport West   \n",
       "Address                68 Studley St               154 Halsey Rd   \n",
       "Rooms                              2                           3   \n",
       "Type                               h                           t   \n",
       "Method                            SS                          PI   \n",
       "SellerG                       Jellis                      Nelson   \n",
       "Date                        3/9/2016                    3/9/2016   \n",
       "Distance                         2.5                        13.5   \n",
       "Postcode                      3067.0                      3042.0   \n",
       "Bedroom                          2.0                         3.0   \n",
       "Bathroom                         1.0                         2.0   \n",
       "Car                              1.0                         1.0   \n",
       "Landsize                       126.0                       303.0   \n",
       "BuildingArea                     inf                         225   \n",
       "YearBuilt                        NaN                      2016.0   \n",
       "CouncilArea       Yarra City Council  Moonee Valley City Council   \n",
       "Latitude                    -37.8014                     -37.718   \n",
       "Longtitude                  144.9958                     144.878   \n",
       "Regionname     Northern Metropolitan        Western Metropolitan   \n",
       "Propertycount                 4019.0                      3464.0   \n",
       "ParkingArea                  Carport             Detached Garage   \n",
       "Price                            NaN                    840000.0   \n",
       "\n",
       "                                       2                          3  \\\n",
       "Suburb                       Albert Park                Albert Park   \n",
       "Address                   105 Kerferd Rd           85 Richardson St   \n",
       "Rooms                                  2                          2   \n",
       "Type                                   h                          h   \n",
       "Method                                 S                          S   \n",
       "SellerG                    hockingstuart                    Thomson   \n",
       "Date                            3/9/2016                   3/9/2016   \n",
       "Distance                             3.3                        3.3   \n",
       "Postcode                          3206.0                     3206.0   \n",
       "Bedroom                              2.0                        2.0   \n",
       "Bathroom                             1.0                        1.0   \n",
       "Car                                  0.0                        0.0   \n",
       "Landsize                           120.0                      159.0   \n",
       "BuildingArea                          82                        inf   \n",
       "YearBuilt                         1900.0                        NaN   \n",
       "CouncilArea    Port Phillip City Council  Port Phillip City Council   \n",
       "Latitude                        -37.8459                    -37.845   \n",
       "Longtitude                      144.9555                   144.9538   \n",
       "Regionname         Southern Metropolitan      Southern Metropolitan   \n",
       "Propertycount                     3280.0                     3280.0   \n",
       "ParkingArea              Attached Garage                     Indoor   \n",
       "Price                          1275000.0                  1455000.0   \n",
       "\n",
       "                                   4  \n",
       "Suburb                    Alphington  \n",
       "Address                 30 Austin St  \n",
       "Rooms                              3  \n",
       "Type                               h  \n",
       "Method                            SN  \n",
       "SellerG                      McGrath  \n",
       "Date                        3/9/2016  \n",
       "Distance                         6.4  \n",
       "Postcode                      3078.0  \n",
       "Bedroom                          3.0  \n",
       "Bathroom                         2.0  \n",
       "Car                              1.0  \n",
       "Landsize                       174.0  \n",
       "BuildingArea                     122  \n",
       "YearBuilt                     2003.0  \n",
       "CouncilArea     Darebin City Council  \n",
       "Latitude                    -37.7818  \n",
       "Longtitude                  145.0198  \n",
       "Regionname     Northern Metropolitan  \n",
       "Propertycount                 2211.0  \n",
       "ParkingArea                  Parkade  \n",
       "Price                            NaN  "
      ]
     },
     "execution_count": 8,
     "metadata": {},
     "output_type": "execute_result"
    }
   ],
   "source": [
    "housing.head().T"
   ]
  },
  {
   "cell_type": "code",
   "execution_count": 9,
   "id": "33dc04e2-ad7f-473e-ab8d-cef88b38fa9d",
   "metadata": {},
   "outputs": [
    {
     "data": {
      "text/plain": [
       "(34857, 22)"
      ]
     },
     "execution_count": 9,
     "metadata": {},
     "output_type": "execute_result"
    }
   ],
   "source": [
    "housing.shape"
   ]
  },
  {
   "cell_type": "code",
   "execution_count": 10,
   "id": "aaf98cc4-a37f-498d-bd24-01e89904040d",
   "metadata": {},
   "outputs": [
    {
     "data": {
      "text/plain": [
       "Index(['Suburb', 'Address', 'Rooms', 'Type', 'Method', 'SellerG', 'Date',\n",
       "       'Distance', 'Postcode', 'Bedroom', 'Bathroom', 'Car', 'Landsize',\n",
       "       'BuildingArea', 'YearBuilt', 'CouncilArea', 'Latitude', 'Longtitude',\n",
       "       'Regionname', 'Propertycount', 'ParkingArea', 'Price'],\n",
       "      dtype='object')"
      ]
     },
     "execution_count": 10,
     "metadata": {},
     "output_type": "execute_result"
    }
   ],
   "source": [
    "housing.columns"
   ]
  },
  {
   "cell_type": "code",
   "execution_count": 11,
   "id": "7c05a64a-69ae-4eb8-8484-0b9a772349cf",
   "metadata": {},
   "outputs": [
    {
     "name": "stdout",
     "output_type": "stream",
     "text": [
      "<class 'pandas.core.frame.DataFrame'>\n",
      "RangeIndex: 34857 entries, 0 to 34856\n",
      "Data columns (total 22 columns):\n",
      " #   Column         Non-Null Count  Dtype  \n",
      "---  ------         --------------  -----  \n",
      " 0   Suburb         34857 non-null  object \n",
      " 1   Address        34857 non-null  object \n",
      " 2   Rooms          34857 non-null  int64  \n",
      " 3   Type           34857 non-null  object \n",
      " 4   Method         34857 non-null  object \n",
      " 5   SellerG        34857 non-null  object \n",
      " 6   Date           34857 non-null  object \n",
      " 7   Distance       34856 non-null  float64\n",
      " 8   Postcode       34856 non-null  float64\n",
      " 9   Bedroom        26640 non-null  float64\n",
      " 10  Bathroom       26631 non-null  float64\n",
      " 11  Car            26129 non-null  float64\n",
      " 12  Landsize       23047 non-null  float64\n",
      " 13  BuildingArea   13760 non-null  object \n",
      " 14  YearBuilt      15551 non-null  float64\n",
      " 15  CouncilArea    34854 non-null  object \n",
      " 16  Latitude       26881 non-null  float64\n",
      " 17  Longtitude     26881 non-null  float64\n",
      " 18  Regionname     34857 non-null  object \n",
      " 19  Propertycount  34854 non-null  float64\n",
      " 20  ParkingArea    34857 non-null  object \n",
      " 21  Price          27247 non-null  float64\n",
      "dtypes: float64(11), int64(1), object(10)\n",
      "memory usage: 5.9+ MB\n"
     ]
    }
   ],
   "source": [
    "housing.info()"
   ]
  },
  {
   "cell_type": "code",
   "execution_count": 12,
   "id": "2f9cb60b-32ad-4229-aada-94b77733b13e",
   "metadata": {},
   "outputs": [
    {
     "data": {
      "text/html": [
       "<div>\n",
       "<style scoped>\n",
       "    .dataframe tbody tr th:only-of-type {\n",
       "        vertical-align: middle;\n",
       "    }\n",
       "\n",
       "    .dataframe tbody tr th {\n",
       "        vertical-align: top;\n",
       "    }\n",
       "\n",
       "    .dataframe thead th {\n",
       "        text-align: right;\n",
       "    }\n",
       "</style>\n",
       "<table border=\"1\" class=\"dataframe\">\n",
       "  <thead>\n",
       "    <tr style=\"text-align: right;\">\n",
       "      <th></th>\n",
       "      <th>count</th>\n",
       "      <th>mean</th>\n",
       "      <th>std</th>\n",
       "      <th>min</th>\n",
       "      <th>25%</th>\n",
       "      <th>50%</th>\n",
       "      <th>75%</th>\n",
       "      <th>max</th>\n",
       "    </tr>\n",
       "  </thead>\n",
       "  <tbody>\n",
       "    <tr>\n",
       "      <th>Rooms</th>\n",
       "      <td>34857.0</td>\n",
       "      <td>3.031012e+00</td>\n",
       "      <td>0.969933</td>\n",
       "      <td>1.00000</td>\n",
       "      <td>2.00000</td>\n",
       "      <td>3.0000</td>\n",
       "      <td>4.000000e+00</td>\n",
       "      <td>1.600000e+01</td>\n",
       "    </tr>\n",
       "    <tr>\n",
       "      <th>Distance</th>\n",
       "      <td>34856.0</td>\n",
       "      <td>1.118493e+01</td>\n",
       "      <td>6.788892</td>\n",
       "      <td>0.00000</td>\n",
       "      <td>6.40000</td>\n",
       "      <td>10.3000</td>\n",
       "      <td>1.400000e+01</td>\n",
       "      <td>4.810000e+01</td>\n",
       "    </tr>\n",
       "    <tr>\n",
       "      <th>Postcode</th>\n",
       "      <td>34856.0</td>\n",
       "      <td>3.116063e+03</td>\n",
       "      <td>109.023903</td>\n",
       "      <td>3000.00000</td>\n",
       "      <td>3051.00000</td>\n",
       "      <td>3103.0000</td>\n",
       "      <td>3.156000e+03</td>\n",
       "      <td>3.978000e+03</td>\n",
       "    </tr>\n",
       "    <tr>\n",
       "      <th>Bedroom</th>\n",
       "      <td>26640.0</td>\n",
       "      <td>3.084647e+00</td>\n",
       "      <td>0.980690</td>\n",
       "      <td>0.00000</td>\n",
       "      <td>2.00000</td>\n",
       "      <td>3.0000</td>\n",
       "      <td>4.000000e+00</td>\n",
       "      <td>3.000000e+01</td>\n",
       "    </tr>\n",
       "    <tr>\n",
       "      <th>Bathroom</th>\n",
       "      <td>26631.0</td>\n",
       "      <td>1.624798e+00</td>\n",
       "      <td>0.724212</td>\n",
       "      <td>0.00000</td>\n",
       "      <td>1.00000</td>\n",
       "      <td>2.0000</td>\n",
       "      <td>2.000000e+00</td>\n",
       "      <td>1.200000e+01</td>\n",
       "    </tr>\n",
       "    <tr>\n",
       "      <th>Car</th>\n",
       "      <td>26129.0</td>\n",
       "      <td>1.728845e+00</td>\n",
       "      <td>1.010771</td>\n",
       "      <td>0.00000</td>\n",
       "      <td>1.00000</td>\n",
       "      <td>2.0000</td>\n",
       "      <td>2.000000e+00</td>\n",
       "      <td>2.600000e+01</td>\n",
       "    </tr>\n",
       "    <tr>\n",
       "      <th>Landsize</th>\n",
       "      <td>23047.0</td>\n",
       "      <td>5.935990e+02</td>\n",
       "      <td>3398.841946</td>\n",
       "      <td>0.00000</td>\n",
       "      <td>224.00000</td>\n",
       "      <td>521.0000</td>\n",
       "      <td>6.700000e+02</td>\n",
       "      <td>4.330140e+05</td>\n",
       "    </tr>\n",
       "    <tr>\n",
       "      <th>YearBuilt</th>\n",
       "      <td>15551.0</td>\n",
       "      <td>1.965290e+03</td>\n",
       "      <td>37.328178</td>\n",
       "      <td>1196.00000</td>\n",
       "      <td>1940.00000</td>\n",
       "      <td>1970.0000</td>\n",
       "      <td>2.000000e+03</td>\n",
       "      <td>2.106000e+03</td>\n",
       "    </tr>\n",
       "    <tr>\n",
       "      <th>Latitude</th>\n",
       "      <td>26881.0</td>\n",
       "      <td>-3.781063e+01</td>\n",
       "      <td>0.090279</td>\n",
       "      <td>-38.19043</td>\n",
       "      <td>-37.86295</td>\n",
       "      <td>-37.8076</td>\n",
       "      <td>-3.775410e+01</td>\n",
       "      <td>-3.739020e+01</td>\n",
       "    </tr>\n",
       "    <tr>\n",
       "      <th>Longtitude</th>\n",
       "      <td>26881.0</td>\n",
       "      <td>1.450019e+02</td>\n",
       "      <td>0.120169</td>\n",
       "      <td>144.42379</td>\n",
       "      <td>144.93350</td>\n",
       "      <td>145.0078</td>\n",
       "      <td>1.450719e+02</td>\n",
       "      <td>1.455264e+02</td>\n",
       "    </tr>\n",
       "    <tr>\n",
       "      <th>Propertycount</th>\n",
       "      <td>34854.0</td>\n",
       "      <td>7.572888e+03</td>\n",
       "      <td>4428.090313</td>\n",
       "      <td>83.00000</td>\n",
       "      <td>4385.00000</td>\n",
       "      <td>6763.0000</td>\n",
       "      <td>1.041200e+04</td>\n",
       "      <td>2.165000e+04</td>\n",
       "    </tr>\n",
       "    <tr>\n",
       "      <th>Price</th>\n",
       "      <td>27247.0</td>\n",
       "      <td>1.050173e+06</td>\n",
       "      <td>641467.130105</td>\n",
       "      <td>85000.00000</td>\n",
       "      <td>635000.00000</td>\n",
       "      <td>870000.0000</td>\n",
       "      <td>1.295000e+06</td>\n",
       "      <td>1.120000e+07</td>\n",
       "    </tr>\n",
       "  </tbody>\n",
       "</table>\n",
       "</div>"
      ],
      "text/plain": [
       "                 count          mean            std          min  \\\n",
       "Rooms          34857.0  3.031012e+00       0.969933      1.00000   \n",
       "Distance       34856.0  1.118493e+01       6.788892      0.00000   \n",
       "Postcode       34856.0  3.116063e+03     109.023903   3000.00000   \n",
       "Bedroom        26640.0  3.084647e+00       0.980690      0.00000   \n",
       "Bathroom       26631.0  1.624798e+00       0.724212      0.00000   \n",
       "Car            26129.0  1.728845e+00       1.010771      0.00000   \n",
       "Landsize       23047.0  5.935990e+02    3398.841946      0.00000   \n",
       "YearBuilt      15551.0  1.965290e+03      37.328178   1196.00000   \n",
       "Latitude       26881.0 -3.781063e+01       0.090279    -38.19043   \n",
       "Longtitude     26881.0  1.450019e+02       0.120169    144.42379   \n",
       "Propertycount  34854.0  7.572888e+03    4428.090313     83.00000   \n",
       "Price          27247.0  1.050173e+06  641467.130105  85000.00000   \n",
       "\n",
       "                        25%          50%           75%           max  \n",
       "Rooms               2.00000       3.0000  4.000000e+00  1.600000e+01  \n",
       "Distance            6.40000      10.3000  1.400000e+01  4.810000e+01  \n",
       "Postcode         3051.00000    3103.0000  3.156000e+03  3.978000e+03  \n",
       "Bedroom             2.00000       3.0000  4.000000e+00  3.000000e+01  \n",
       "Bathroom            1.00000       2.0000  2.000000e+00  1.200000e+01  \n",
       "Car                 1.00000       2.0000  2.000000e+00  2.600000e+01  \n",
       "Landsize          224.00000     521.0000  6.700000e+02  4.330140e+05  \n",
       "YearBuilt        1940.00000    1970.0000  2.000000e+03  2.106000e+03  \n",
       "Latitude          -37.86295     -37.8076 -3.775410e+01 -3.739020e+01  \n",
       "Longtitude        144.93350     145.0078  1.450719e+02  1.455264e+02  \n",
       "Propertycount    4385.00000    6763.0000  1.041200e+04  2.165000e+04  \n",
       "Price          635000.00000  870000.0000  1.295000e+06  1.120000e+07  "
      ]
     },
     "execution_count": 12,
     "metadata": {},
     "output_type": "execute_result"
    }
   ],
   "source": [
    "housing.describe().T"
   ]
  },
  {
   "cell_type": "code",
   "execution_count": 13,
   "id": "5ffb5cc5-37b5-46fe-a30e-5a045f1f45d8",
   "metadata": {},
   "outputs": [
    {
     "data": {
      "text/plain": [
       "Suburb               0\n",
       "Address              0\n",
       "Rooms                0\n",
       "Type                 0\n",
       "Method               0\n",
       "SellerG              0\n",
       "Date                 0\n",
       "Distance             1\n",
       "Postcode             1\n",
       "Bedroom           8217\n",
       "Bathroom          8226\n",
       "Car               8728\n",
       "Landsize         11810\n",
       "BuildingArea     21097\n",
       "YearBuilt        19306\n",
       "CouncilArea          3\n",
       "Latitude          7976\n",
       "Longtitude        7976\n",
       "Regionname           0\n",
       "Propertycount        3\n",
       "ParkingArea          0\n",
       "Price             7610\n",
       "dtype: int64"
      ]
     },
     "execution_count": 13,
     "metadata": {},
     "output_type": "execute_result"
    }
   ],
   "source": [
    "housing.isnull().sum()"
   ]
  },
  {
   "cell_type": "code",
   "execution_count": 14,
   "id": "898472fe-6508-4f71-bcd8-8d3e99084aa0",
   "metadata": {},
   "outputs": [
    {
     "data": {
      "text/plain": [
       "Index(['Suburb', 'Address', 'Rooms', 'Type', 'Method', 'SellerG', 'Date',\n",
       "       'Distance', 'Postcode', 'Bedroom', 'Bathroom', 'Car', 'Landsize',\n",
       "       'BuildingArea', 'YearBuilt', 'CouncilArea', 'Latitude', 'Longtitude',\n",
       "       'Regionname', 'Propertycount', 'ParkingArea', 'Price'],\n",
       "      dtype='object')"
      ]
     },
     "execution_count": 14,
     "metadata": {},
     "output_type": "execute_result"
    }
   ],
   "source": [
    "housing.columns"
   ]
  },
  {
   "cell_type": "code",
   "execution_count": 15,
   "id": "7a8b3ed6-3814-48f6-a900-446f982e956f",
   "metadata": {},
   "outputs": [],
   "source": [
    "# renaming some columns: SellerG, Postcode, BuildingArea, YearBuilt, Regionname, ParkingArea\n",
    "housing = housing.rename(columns={'SellerG':'Seller_Agent', 'Postcode':'Post_Code', 'BuildingArea': 'Building_Area', 'YearBuilt':'Year_Built', \n",
    "'Regionname':'Region_Name', 'ParkingArea':'Parking_Area'})\n"
   ]
  },
  {
   "cell_type": "code",
   "execution_count": 16,
   "id": "6b3ccec7-e2d7-4e4f-84cd-cfca5b279e9a",
   "metadata": {},
   "outputs": [
    {
     "data": {
      "text/plain": [
       "0"
      ]
     },
     "execution_count": 16,
     "metadata": {},
     "output_type": "execute_result"
    }
   ],
   "source": [
    "# checking for any duplicated rows\n",
    "housing.duplicated().sum()"
   ]
  },
  {
   "cell_type": "code",
   "execution_count": 17,
   "id": "3efca8ca-b1ce-42b8-b424-51c12a41edbf",
   "metadata": {},
   "outputs": [],
   "source": [
    "# let's suppose that there are duplicated rows \n",
    "# we need to get rid of them\n",
    "# housing.drop_duplicates(inplaced=True)"
   ]
  },
  {
   "cell_type": "code",
   "execution_count": 18,
   "id": "3913b2a5-df6c-406c-aa9c-b84cb47d1160",
   "metadata": {},
   "outputs": [
    {
     "data": {
      "text/plain": [
       "Index(['Suburb', 'Address', 'Rooms', 'Type', 'Method', 'Seller_Agent', 'Date',\n",
       "       'Distance', 'Post_Code', 'Bedroom', 'Bathroom', 'Car', 'Landsize',\n",
       "       'Building_Area', 'Year_Built', 'CouncilArea', 'Latitude', 'Longtitude',\n",
       "       'Region_Name', 'Propertycount', 'Parking_Area', 'Price'],\n",
       "      dtype='object')"
      ]
     },
     "execution_count": 18,
     "metadata": {},
     "output_type": "execute_result"
    }
   ],
   "source": [
    "housing.columns"
   ]
  },
  {
   "cell_type": "markdown",
   "id": "3471e540-d1d6-4edf-9eec-c1e74965626b",
   "metadata": {},
   "source": [
    "### Univariate Analysis\n",
    "1.  Performing analysis on one variable\n",
    "2.  The key point is that there is only one variable in the dataset\n",
    "3.  For this reason we will use \"Distance\" for the univariate analysis "
   ]
  },
  {
   "cell_type": "code",
   "execution_count": 20,
   "id": "5943dfd6-4389-4ec8-9c76-43491aa4e26a",
   "metadata": {},
   "outputs": [
    {
     "data": {
      "text/plain": [
       "0     2.5\n",
       "1    13.5\n",
       "2     3.3\n",
       "3     3.3\n",
       "4     6.4\n",
       "Name: Distance, dtype: float64"
      ]
     },
     "execution_count": 20,
     "metadata": {},
     "output_type": "execute_result"
    }
   ],
   "source": [
    "housing_1 = housing['Distance']\n",
    "housing_1.head()"
   ]
  },
  {
   "cell_type": "code",
   "execution_count": 21,
   "id": "1bce3d4d-f6fd-42ca-92d1-b89e90e5acee",
   "metadata": {},
   "outputs": [
    {
     "data": {
      "text/plain": [
       "(34857,)"
      ]
     },
     "execution_count": 21,
     "metadata": {},
     "output_type": "execute_result"
    }
   ],
   "source": [
    "housing_1.shape"
   ]
  },
  {
   "cell_type": "code",
   "execution_count": 22,
   "id": "6f7e8043-b063-4021-927d-b546ea9d1e7b",
   "metadata": {},
   "outputs": [
    {
     "data": {
      "text/plain": [
       "34857"
      ]
     },
     "execution_count": 22,
     "metadata": {},
     "output_type": "execute_result"
    }
   ],
   "source": [
    "len(housing_1)"
   ]
  },
  {
   "cell_type": "code",
   "execution_count": 23,
   "id": "750dd5b0-5be4-4cea-a40f-929af3d44a6b",
   "metadata": {},
   "outputs": [
    {
     "data": {
      "text/plain": [
       "1"
      ]
     },
     "execution_count": 23,
     "metadata": {},
     "output_type": "execute_result"
    }
   ],
   "source": [
    "housing_1.isnull().sum()"
   ]
  },
  {
   "cell_type": "code",
   "execution_count": 24,
   "id": "a30b1fe6-7406-4605-9663-0415f24e82fd",
   "metadata": {},
   "outputs": [],
   "source": [
    "housing_1.dropna(inplace=True)"
   ]
  },
  {
   "cell_type": "code",
   "execution_count": 25,
   "id": "298139a7-b0fd-4211-b325-6a54646ec98b",
   "metadata": {},
   "outputs": [
    {
     "data": {
      "text/plain": [
       "0"
      ]
     },
     "execution_count": 25,
     "metadata": {},
     "output_type": "execute_result"
    }
   ],
   "source": [
    "housing_1.isnull().sum()"
   ]
  },
  {
   "cell_type": "code",
   "execution_count": 26,
   "id": "9d1b8cbd-6076-40f7-81bd-aeeed80e67b2",
   "metadata": {},
   "outputs": [
    {
     "data": {
      "text/plain": [
       "34641"
      ]
     },
     "execution_count": 26,
     "metadata": {},
     "output_type": "execute_result"
    }
   ],
   "source": [
    "# duplicated rows \n",
    "housing_1.duplicated().sum()"
   ]
  },
  {
   "cell_type": "code",
   "execution_count": 27,
   "id": "e2d18304-42e9-4e42-9a94-b41dbe52eab2",
   "metadata": {},
   "outputs": [
    {
     "data": {
      "image/png": "[encoded data removed]",
      "text/plain": [
       "<Figure size 640x480 with 1 Axes>"
      ]
     },
     "metadata": {},
     "output_type": "display_data"
    }
   ],
   "source": [
    "# data distribution: Visualization\n",
    "plt.hist(housing['Distance']);"
   ]
  },
  {
   "cell_type": "code",
   "execution_count": 28,
   "id": "2cd5d102-9bd8-4093-8c05-f317c125778a",
   "metadata": {},
   "outputs": [
    {
     "data": {
      "image/png": "[encoded data removed]",
      "text/plain": [
       "<Figure size 640x480 with 1 Axes>"
      ]
     },
     "metadata": {},
     "output_type": "display_data"
    }
   ],
   "source": [
    "# data distribution: Visualization\n",
    "plt.hist(housing_1);"
   ]
  },
  {
   "cell_type": "markdown",
   "id": "25a524dd-57e6-474c-af44-1a9657019ee9",
   "metadata": {},
   "source": [
    "### Examining the Skewness in Distance Univariate Dataset Using Statistical Measures\n",
    "1. mean: average of a variable\n",
    "2. median: The middle value in a variable\n",
    "3. mode: the most frequent values in a variable\n",
    "4. Let's plot th skewness in the Distance variable"
   ]
  },
  {
   "cell_type": "code",
   "execution_count": 30,
   "id": "9c33b0c7-12de-4c10-b9ee-1b4b2ea26b9e",
   "metadata": {},
   "outputs": [
    {
     "data": {
      "image/png": "[encoded data removed]",
      "text/plain": [
       "<Figure size 2000x1000 with 1 Axes>"
      ]
     },
     "metadata": {},
     "output_type": "display_data"
    }
   ],
   "source": [
    "# 1. setting the size of the plot\n",
    "plt.figure(figsize=(20, 10))\n",
    "\n",
    "# 2. creating a simple histogram with green color\n",
    "plt.hist(housing_1, color='g')\n",
    "\n",
    "\n",
    "# 3. calculating the mean() giving the mean line a red color\n",
    "plt.axvline(housing_1.mean(), color='r', linewidth= 10)\n",
    "\n",
    "# 4.  calculating the median() giving the median line a blue color, a dashed style\n",
    "plt.axvline(housing_1.median(), color='b', linewidth= 6, linestyle='dashed')\n",
    "\n",
    "# 5.  calculating the mode() giving the mode line a white color, a dashed style\n",
    "plt.axvline(housing_1.mode()[0], color='w', linewidth= 4, linestyle='dashed');"
   ]
  },
  {
   "cell_type": "markdown",
   "id": "5145a8e0-232a-4e0a-8f82-5e3afd39f028",
   "metadata": {},
   "source": [
    "### Conclusion:\n",
    "- Add 19 points\n",
    "1. The dataset showed a slight positive skew, indicating that most values were clustered toward the lower end with a few higher outliers.\n",
    "2. The correlation matrix helped reveal strong positive relationships between specific variables.\n",
    "3. A strong positive correlation was observed between variables like X and Y, suggesting they increase together.\n",
    "4. Some variables had near-zero correlation, showing no meaningful relationship between them.\n",
    "5. A few variables exhibited a negative correlation, meaning that as one increased, the other decreased.\n",
    "6. Boxplots highlighted the presence of outliers in several features.\n",
    "7. Using Z-scores, I confirmed which data points qualified as outliers statistically.\n",
    "8. Removing outliers significantly improved the symmetry of the data distribution.\n",
    "9. Outlier removal had minimal impact on some features, suggesting robust, naturally tight distributions.\n",
    "10. Some data distributions became more normal after outlier handling, which benefits statistical analysis.\n",
    "11. I observed that not all extreme values should automatically be removed—context matters.\n",
    "12. Histograms were very helpful in visualizing skewness and understanding data spread.\n",
    "13. Scatterplots made it easier to identify both correlation and potential outliers visually.\n",
    "14. There was evidence that linear relationships existed between specific pairs of variables.\n",
    "15. Variables with high skewness were prone to generating misleading averages (mean vs median).\n",
    "16. Applying Winsorization (capping extreme values) effectively reduced the influence of extreme outliers without deleting data.\n",
    "17. A few variables were left-skewed, indicating a longer tail on the left side.\n",
    "18. Calculating Z-scores manually improved my understanding of standard deviation and mean relationships.\n",
    "19. Some features displayed bimodal distributions, meaning the data had two distinct peaks.\n",
    "\n"
   ]
  },
  {
   "cell_type": "markdown",
   "id": "059bd4c9-be11-4f22-ba3b-6e8705bb7a30",
   "metadata": {},
   "source": [
    "##### End of Lab 11"
   ]
  },
  {
   "cell_type": "code",
   "execution_count": null,
   "id": "a3424f25-49bb-4ed3-ada5-72b3c7e907dd",
   "metadata": {},
   "outputs": [],
   "source": []
  }
 ],
 "metadata": {
  "kernelspec": {
   "display_name": "Python [conda env:base] *",
   "language": "python",
   "name": "conda-base-py"
  },
  "language_info": {
   "codemirror_mode": {
    "name": "ipython",
    "version": 3
   },
   "file_extension": ".py",
   "mimetype": "text/x-python",
   "name": "python",
   "nbconvert_exporter": "python",
   "pygments_lexer": "ipython3",
   "version": "3.12.7"
  }
 },
 "nbformat": 4,
 "nbformat_minor": 5
}
